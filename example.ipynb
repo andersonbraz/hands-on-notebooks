{
 "cells": [
  {
   "cell_type": "code",
   "execution_count": 1,
   "metadata": {},
   "outputs": [],
   "source": [
    "from pyspark.sql import SparkSession\n",
    "from pyspark.sql import functions as F"
   ]
  },
  {
   "cell_type": "code",
   "execution_count": 2,
   "metadata": {},
   "outputs": [
    {
     "name": "stderr",
     "output_type": "stream",
     "text": [
      "Setting default log level to \"WARN\".\n",
      "To adjust logging level use sc.setLogLevel(newLevel). For SparkR, use setLogLevel(newLevel).\n",
      "24/05/30 18:53:04 WARN NativeCodeLoader: Unable to load native-hadoop library for your platform... using builtin-java classes where applicable\n"
     ]
    }
   ],
   "source": [
    "spark = SparkSession.builder.appName(\"MeuApp\").getOrCreate()"
   ]
  },
  {
   "cell_type": "code",
   "execution_count": 6,
   "metadata": {},
   "outputs": [
    {
     "name": "stdout",
     "output_type": "stream",
     "text": [
      "+--------------------------+-------------------------------+---------------+--------+\n",
      "|nome                      |email                          |data_nascimento|cep     |\n",
      "+--------------------------+-------------------------------+---------------+--------+\n",
      "|Dr. Isaac Borges          |zmelo@example.net              |2003-05-20     |42376210|\n",
      "|Dr. André Silveira        |ana-vitoriamendonca@example.net|1989-04-01     |78509280|\n",
      "|Maria Vitória da Conceição|rochaapollo@example.org        |2003-02-25     |27692001|\n",
      "|Vitor Hugo Montenegro     |cassianoisis@example.com       |1986-12-20     |24593532|\n",
      "|Dra. Rafaela Brito        |imontenegro@example.org        |1955-09-17     |22901588|\n",
      "|Sra. Lorena Porto         |bbrito@example.com             |1948-09-22     |87689204|\n",
      "|Ana Sophia Azevedo        |esilveira@example.org          |1925-09-20     |07190260|\n",
      "|Hellena Campos            |natalia07@example.net          |2016-08-13     |21323151|\n",
      "|Sr. Leandro Vargas        |laraandrade@example.com        |1913-09-28     |01785325|\n",
      "|Anna Liz da Paz           |borgesfernando@example.com     |1944-03-12     |45457807|\n",
      "|Heloisa da Cunha          |jsouza@example.net             |1990-03-29     |91634635|\n",
      "|Luna Farias               |mmendonca@example.org          |1951-05-07     |82720152|\n",
      "|Dra. Maysa Martins        |isaque66@example.org           |1988-12-01     |78324049|\n",
      "|Amanda Siqueira           |pintomaria-julia@example.com   |2021-02-16     |48774917|\n",
      "|Mariana Gonçalves         |pintoluna@example.org          |1909-07-12     |30622162|\n",
      "|Maysa Ribeiro             |leandro38@example.org          |1943-07-15     |52939754|\n",
      "|Mariah Casa Grande        |ana-laura63@example.com        |1927-03-07     |81700061|\n",
      "|Cecília Andrade           |oliveiraisadora@example.net    |1943-10-08     |03753496|\n",
      "|Ana Clara Cirino          |yuri36@example.net             |1990-04-09     |54229605|\n",
      "|Sabrina Machado           |julia78@example.net            |1959-11-24     |33048817|\n",
      "+--------------------------+-------------------------------+---------------+--------+\n",
      "only showing top 20 rows\n",
      "\n"
     ]
    }
   ],
   "source": [
    "\n",
    "data_fake = spark.read.option(\"delimiter\", \",\").option(\"header\", True).csv(\"data.csv\")\\\n",
    ".withColumn(\"cep\", F.regexp_replace(F.col(\"cep\"), \"-\", \"\"))\n",
    "\n",
    "data_fake.show(truncate=False)"
   ]
  }
 ],
 "metadata": {
  "kernelspec": {
   "display_name": ".venv",
   "language": "python",
   "name": "python3"
  },
  "language_info": {
   "codemirror_mode": {
    "name": "ipython",
    "version": 3
   },
   "file_extension": ".py",
   "mimetype": "text/x-python",
   "name": "python",
   "nbconvert_exporter": "python",
   "pygments_lexer": "ipython3",
   "version": "3.10.14"
  }
 },
 "nbformat": 4,
 "nbformat_minor": 2
}
