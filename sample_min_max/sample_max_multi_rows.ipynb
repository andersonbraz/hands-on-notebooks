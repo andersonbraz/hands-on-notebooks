{
 "cells": [
  {
   "cell_type": "code",
   "execution_count": 1,
   "metadata": {},
   "outputs": [
    {
     "ename": "ModuleNotFoundError",
     "evalue": "No module named 'py4j'",
     "output_type": "error",
     "traceback": [
      "\u001b[0;31m---------------------------------------------------------------------------\u001b[0m",
      "\u001b[0;31mModuleNotFoundError\u001b[0m                       Traceback (most recent call last)",
      "Cell \u001b[0;32mIn[1], line 3\u001b[0m\n\u001b[1;32m      1\u001b[0m \u001b[38;5;28;01mfrom\u001b[39;00m \u001b[38;5;21;01mdatetime\u001b[39;00m \u001b[38;5;28;01mimport\u001b[39;00m datetime\n\u001b[0;32m----> 3\u001b[0m \u001b[38;5;28;01mfrom\u001b[39;00m \u001b[38;5;21;01mpyspark\u001b[39;00m\u001b[38;5;21;01m.\u001b[39;00m\u001b[38;5;21;01msql\u001b[39;00m \u001b[38;5;28;01mimport\u001b[39;00m SparkSession\n\u001b[1;32m      4\u001b[0m \u001b[38;5;28;01mfrom\u001b[39;00m \u001b[38;5;21;01mpyspark\u001b[39;00m\u001b[38;5;21;01m.\u001b[39;00m\u001b[38;5;21;01msql\u001b[39;00m \u001b[38;5;28;01mimport\u001b[39;00m functions \u001b[38;5;28;01mas\u001b[39;00m F\n\u001b[1;32m      5\u001b[0m \u001b[38;5;28;01mfrom\u001b[39;00m \u001b[38;5;21;01mpyspark\u001b[39;00m\u001b[38;5;21;01m.\u001b[39;00m\u001b[38;5;21;01msql\u001b[39;00m \u001b[38;5;28;01mimport\u001b[39;00m types \u001b[38;5;28;01mas\u001b[39;00m T\n",
      "File \u001b[0;32m~/hadoop/spark-3.5.1/python/pyspark/__init__.py:58\u001b[0m\n\u001b[1;32m     52\u001b[0m \u001b[38;5;28;01mfrom\u001b[39;00m \u001b[38;5;21;01mwarnings\u001b[39;00m \u001b[38;5;28;01mimport\u001b[39;00m filterwarnings\n\u001b[1;32m     54\u001b[0m filterwarnings(\n\u001b[1;32m     55\u001b[0m     \u001b[38;5;124m\"\u001b[39m\u001b[38;5;124mignore\u001b[39m\u001b[38;5;124m\"\u001b[39m, message\u001b[38;5;241m=\u001b[39m\u001b[38;5;124m\"\u001b[39m\u001b[38;5;124mdistutils Version classes are deprecated. Use packaging.version instead.\u001b[39m\u001b[38;5;124m\"\u001b[39m\n\u001b[1;32m     56\u001b[0m )\n\u001b[0;32m---> 58\u001b[0m \u001b[38;5;28;01mfrom\u001b[39;00m \u001b[38;5;21;01mpyspark\u001b[39;00m\u001b[38;5;21;01m.\u001b[39;00m\u001b[38;5;21;01mconf\u001b[39;00m \u001b[38;5;28;01mimport\u001b[39;00m SparkConf\n\u001b[1;32m     59\u001b[0m \u001b[38;5;28;01mfrom\u001b[39;00m \u001b[38;5;21;01mpyspark\u001b[39;00m\u001b[38;5;21;01m.\u001b[39;00m\u001b[38;5;21;01mrdd\u001b[39;00m \u001b[38;5;28;01mimport\u001b[39;00m RDD, RDDBarrier\n\u001b[1;32m     60\u001b[0m \u001b[38;5;28;01mfrom\u001b[39;00m \u001b[38;5;21;01mpyspark\u001b[39;00m\u001b[38;5;21;01m.\u001b[39;00m\u001b[38;5;21;01mfiles\u001b[39;00m \u001b[38;5;28;01mimport\u001b[39;00m SparkFiles\n",
      "File \u001b[0;32m~/hadoop/spark-3.5.1/python/pyspark/conf.py:23\u001b[0m\n\u001b[1;32m     20\u001b[0m \u001b[38;5;28;01mimport\u001b[39;00m \u001b[38;5;21;01msys\u001b[39;00m\n\u001b[1;32m     21\u001b[0m \u001b[38;5;28;01mfrom\u001b[39;00m \u001b[38;5;21;01mtyping\u001b[39;00m \u001b[38;5;28;01mimport\u001b[39;00m Dict, List, Optional, Tuple, cast, overload\n\u001b[0;32m---> 23\u001b[0m \u001b[38;5;28;01mfrom\u001b[39;00m \u001b[38;5;21;01mpy4j\u001b[39;00m\u001b[38;5;21;01m.\u001b[39;00m\u001b[38;5;21;01mjava_gateway\u001b[39;00m \u001b[38;5;28;01mimport\u001b[39;00m JVMView, JavaObject\n\u001b[1;32m     24\u001b[0m \u001b[38;5;28;01mfrom\u001b[39;00m \u001b[38;5;21;01mpyspark\u001b[39;00m\u001b[38;5;21;01m.\u001b[39;00m\u001b[38;5;21;01merrors\u001b[39;00m \u001b[38;5;28;01mimport\u001b[39;00m PySparkRuntimeError\n\u001b[1;32m     27\u001b[0m \u001b[38;5;28;01mclass\u001b[39;00m \u001b[38;5;21;01mSparkConf\u001b[39;00m:\n",
      "\u001b[0;31mModuleNotFoundError\u001b[0m: No module named 'py4j'"
     ]
    }
   ],
   "source": [
    "from datetime import datetime\n",
    "\n",
    "from pyspark.sql import SparkSession\n",
    "from pyspark.sql import functions as F\n",
    "from pyspark.sql import types as T\n",
    "from pyspark.sql.window import Window\n",
    "\n",
    "from IPython.core.display import HTML                                   #Função renderização html no Jupyter\n",
    "display(HTML(\"<style>pre { white-space: pre !important; }</style>\"))    #Função renderização html no Jupyter"
   ]
  },
  {
   "cell_type": "code",
   "execution_count": 33,
   "metadata": {},
   "outputs": [],
   "source": [
    "spark = SparkSession.builder.appName(\"Examples_Spark\").getOrCreate()"
   ]
  },
  {
   "cell_type": "code",
   "execution_count": null,
   "metadata": {},
   "outputs": [],
   "source": [
    "schema_other = T.StructType()\\\n",
    ".add(\"ID\", T.IntegerType(), True)\\\n",
    ".add(\"INFO\", T.StringType(), True)\\\n",
    ".add(\"COD_A\", T.IntegerType(), True)\\\n",
    ".add(\"COD_B\", T.IntegerType(), True)\\\n",
    ".add(\"COD_C\", T.IntegerType(), True)\\\n",
    ".add(\"DT_REF\", T.DateType(), True)\\\n",
    " \n",
    "data_other = [\n",
    "(1, \"ALFA\", 10, 36, 49, datetime.strptime(\"2024-01-01\", \"%Y-%m-%d\").date()),\n",
    "(1, \"ALFA\", 10, 28, 49, datetime.strptime(\"2024-01-01\", \"%Y-%m-%d\").date()),\n",
    "(1, \"ALFA\", 10, 49, 36, datetime.strptime(\"2024-01-01\", \"%Y-%m-%d\").date()),\n",
    "(1, \"ALFA\", 20, 73, 49, datetime.strptime(\"2024-08-01\", \"%Y-%m-%d\").date()),\n",
    "(1, \"ALFA\", 20, 39, 50, datetime.strptime(\"2024-08-01\", \"%Y-%m-%d\").date()),\n",
    "(2, \"BETA\", 70, 39, 50, datetime.strptime(\"2024-03-01\", \"%Y-%m-%d\").date()),\n",
    "(2, \"BETA\", 70, 39, 50, datetime.strptime(\"2024-03-01\", \"%Y-%m-%d\").date()),\n",
    "(2, \"BETA\", 80, 39, 50, datetime.strptime(\"2024-10-01\", \"%Y-%m-%d\").date()),\n",
    "(2, \"BETA\", 80, 39, 50, datetime.strptime(\"2024-10-01\", \"%Y-%m-%d\").date()),\n",
    "(2, \"BETA\", 80, 39, 50, datetime.strptime(\"2024-10-01\", \"%Y-%m-%d\").date()),\n",
    "]\n",
    " \n",
    "df_other = spark.createDataFrame(data=data_other, schema=schema_other)\n",
    "df_other.show(truncate=False)"
   ]
  },
  {
   "cell_type": "markdown",
   "metadata": {},
   "source": [
    "## Jeito Simples"
   ]
  },
  {
   "cell_type": "code",
   "execution_count": null,
   "metadata": {},
   "outputs": [],
   "source": [
    "max_dates = df_other.groupBy(\"ID\").agg(F.max(\"DT_REF\").alias(\"MAX_DT_REF\"))\n",
    "\n",
    "df_simple_result = df_other.join(max_dates, (df_other.ID == max_dates.ID) & (df_other.DT_REF == max_dates.MAX_DT_REF)).select(df_other[\"*\"])\n",
    "df_simple_result.show(truncate=False)"
   ]
  },
  {
   "cell_type": "markdown",
   "metadata": {},
   "source": [
    "## Jeito Pouco Complexo"
   ]
  },
  {
   "cell_type": "code",
   "execution_count": null,
   "metadata": {},
   "outputs": [],
   "source": [
    "df_other = df_other.withColumn(\"ID_INFO\", F.concat_ws(\"_\", F.col(\"ID\"), F.col(\"INFO\")))\n",
    "window_spec = Window.partitionBy(\"ID_INFO\").orderBy(F.col(\"DT_REF\").desc())\n",
    "df_other = df_other.withColumn(\"MAX_DT_REF\", F.max(\"DT_REF\").over(window_spec))\n",
    "\n",
    "df_complex_result = df_other.filter(F.col(\"DT_REF\") == F.col(\"MAX_DT_REF\")).drop(\"MAX_DT_REF\", \"ID_INFO\")\n",
    "df_complex_result.show(truncate=False)"
   ]
  }
 ],
 "metadata": {
  "kernelspec": {
   "display_name": ".venv",
   "language": "python",
   "name": "python3"
  },
  "language_info": {
   "codemirror_mode": {
    "name": "ipython",
    "version": 3
   },
   "file_extension": ".py",
   "mimetype": "text/x-python",
   "name": "python",
   "nbconvert_exporter": "python",
   "pygments_lexer": "ipython3",
   "version": "3.11.2"
  }
 },
 "nbformat": 4,
 "nbformat_minor": 2
}
