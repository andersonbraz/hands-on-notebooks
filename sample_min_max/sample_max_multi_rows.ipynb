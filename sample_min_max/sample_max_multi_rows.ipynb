{
 "cells": [
  {
   "cell_type": "code",
   "execution_count": 32,
   "metadata": {},
   "outputs": [
    {
     "data": {
      "text/html": [
       "<style>pre { white-space: pre !important; }</style>"
      ],
      "text/plain": [
       "<IPython.core.display.HTML object>"
      ]
     },
     "metadata": {},
     "output_type": "display_data"
    }
   ],
   "source": [
    "from datetime import datetime\n",
    "\n",
    "from pyspark.sql import SparkSession\n",
    "from pyspark.sql import functions as F\n",
    "from pyspark.sql import types as T\n",
    "from pyspark.sql.window import Window\n",
    "\n",
    "from IPython.core.display import HTML                                   #Função renderização html no Jupyter\n",
    "display(HTML(\"<style>pre { white-space: pre !important; }</style>\"))    #Função renderização html no Jupyter"
   ]
  },
  {
   "cell_type": "code",
   "execution_count": 33,
   "metadata": {},
   "outputs": [],
   "source": [
    "spark = SparkSession.builder.appName(\"Examples_Spark\").getOrCreate()"
   ]
  },
  {
   "cell_type": "code",
   "execution_count": 34,
   "metadata": {},
   "outputs": [
    {
     "name": "stdout",
     "output_type": "stream",
     "text": [
      "+---+----+-----+-----+-----+----------+\n",
      "|ID |INFO|COD_A|COD_B|COD_C|DT_REF    |\n",
      "+---+----+-----+-----+-----+----------+\n",
      "|1  |ALFA|10   |36   |49   |2024-01-01|\n",
      "|1  |ALFA|10   |28   |49   |2024-01-01|\n",
      "|1  |ALFA|10   |49   |36   |2024-01-01|\n",
      "|1  |ALFA|20   |73   |49   |2024-08-01|\n",
      "|1  |ALFA|20   |39   |50   |2024-08-01|\n",
      "|2  |BETA|70   |39   |50   |2024-03-01|\n",
      "|2  |BETA|70   |39   |50   |2024-03-01|\n",
      "|2  |BETA|80   |39   |50   |2024-10-01|\n",
      "|2  |BETA|80   |39   |50   |2024-10-01|\n",
      "|2  |BETA|80   |39   |50   |2024-10-01|\n",
      "+---+----+-----+-----+-----+----------+\n",
      "\n"
     ]
    }
   ],
   "source": [
    "schema_other = T.StructType()\\\n",
    ".add(\"ID\", T.IntegerType(), True)\\\n",
    ".add(\"INFO\", T.StringType(), True)\\\n",
    ".add(\"COD_A\", T.IntegerType(), True)\\\n",
    ".add(\"COD_B\", T.IntegerType(), True)\\\n",
    ".add(\"COD_C\", T.IntegerType(), True)\\\n",
    ".add(\"DT_REF\", T.DateType(), True)\\\n",
    " \n",
    "data_other = [\n",
    "(1, \"ALFA\", 10, 36, 49, datetime.strptime(\"2024-01-01\", \"%Y-%m-%d\").date()),\n",
    "(1, \"ALFA\", 10, 28, 49, datetime.strptime(\"2024-01-01\", \"%Y-%m-%d\").date()),\n",
    "(1, \"ALFA\", 10, 49, 36, datetime.strptime(\"2024-01-01\", \"%Y-%m-%d\").date()),\n",
    "(1, \"ALFA\", 20, 73, 49, datetime.strptime(\"2024-08-01\", \"%Y-%m-%d\").date()),\n",
    "(1, \"ALFA\", 20, 39, 50, datetime.strptime(\"2024-08-01\", \"%Y-%m-%d\").date()),\n",
    "(2, \"BETA\", 70, 39, 50, datetime.strptime(\"2024-03-01\", \"%Y-%m-%d\").date()),\n",
    "(2, \"BETA\", 70, 39, 50, datetime.strptime(\"2024-03-01\", \"%Y-%m-%d\").date()),\n",
    "(2, \"BETA\", 80, 39, 50, datetime.strptime(\"2024-10-01\", \"%Y-%m-%d\").date()),\n",
    "(2, \"BETA\", 80, 39, 50, datetime.strptime(\"2024-10-01\", \"%Y-%m-%d\").date()),\n",
    "(2, \"BETA\", 80, 39, 50, datetime.strptime(\"2024-10-01\", \"%Y-%m-%d\").date()),\n",
    "]\n",
    " \n",
    "df_other = spark.createDataFrame(data=data_other, schema=schema_other)\n",
    "df_other.show(truncate=False)"
   ]
  },
  {
   "cell_type": "markdown",
   "metadata": {},
   "source": [
    "## Jeito Simples"
   ]
  },
  {
   "cell_type": "code",
   "execution_count": 35,
   "metadata": {},
   "outputs": [
    {
     "name": "stdout",
     "output_type": "stream",
     "text": [
      "+---+----+-----+-----+-----+----------+\n",
      "|ID |INFO|COD_A|COD_B|COD_C|DT_REF    |\n",
      "+---+----+-----+-----+-----+----------+\n",
      "|1  |ALFA|20   |73   |49   |2024-08-01|\n",
      "|1  |ALFA|20   |39   |50   |2024-08-01|\n",
      "|2  |BETA|80   |39   |50   |2024-10-01|\n",
      "|2  |BETA|80   |39   |50   |2024-10-01|\n",
      "|2  |BETA|80   |39   |50   |2024-10-01|\n",
      "+---+----+-----+-----+-----+----------+\n",
      "\n"
     ]
    }
   ],
   "source": [
    "max_dates = df_other.groupBy(\"ID\").agg(F.max(\"DT_REF\").alias(\"MAX_DT_REF\"))\n",
    "\n",
    "df_simple_result = df_other.join(max_dates, (df_other.ID == max_dates.ID) & (df_other.DT_REF == max_dates.MAX_DT_REF)).select(df_other[\"*\"])\n",
    "df_simple_result.show(truncate=False)"
   ]
  },
  {
   "cell_type": "markdown",
   "metadata": {},
   "source": [
    "## Jeito Pouco Complexo"
   ]
  },
  {
   "cell_type": "code",
   "execution_count": 36,
   "metadata": {},
   "outputs": [
    {
     "name": "stdout",
     "output_type": "stream",
     "text": [
      "+---+----+-----+-----+-----+----------+\n",
      "|ID |INFO|COD_A|COD_B|COD_C|DT_REF    |\n",
      "+---+----+-----+-----+-----+----------+\n",
      "|1  |ALFA|20   |73   |49   |2024-08-01|\n",
      "|1  |ALFA|20   |39   |50   |2024-08-01|\n",
      "|2  |BETA|80   |39   |50   |2024-10-01|\n",
      "|2  |BETA|80   |39   |50   |2024-10-01|\n",
      "|2  |BETA|80   |39   |50   |2024-10-01|\n",
      "+---+----+-----+-----+-----+----------+\n",
      "\n"
     ]
    }
   ],
   "source": [
    "df_other = df_other.withColumn(\"ID_INFO\", F.concat_ws(\"_\", F.col(\"ID\"), F.col(\"INFO\")))\n",
    "window_spec = Window.partitionBy(\"ID_INFO\").orderBy(F.col(\"DT_REF\").desc())\n",
    "df_other = df_other.withColumn(\"MAX_DT_REF\", F.max(\"DT_REF\").over(window_spec))\n",
    "\n",
    "df_complex_result = df_other.filter(F.col(\"DT_REF\") == F.col(\"MAX_DT_REF\")).drop(\"MAX_DT_REF\", \"ID_INFO\")\n",
    "df_complex_result.show(truncate=False)"
   ]
  }
 ],
 "metadata": {
  "kernelspec": {
   "display_name": ".venv",
   "language": "python",
   "name": "python3"
  },
  "language_info": {
   "codemirror_mode": {
    "name": "ipython",
    "version": 3
   },
   "file_extension": ".py",
   "mimetype": "text/x-python",
   "name": "python",
   "nbconvert_exporter": "python",
   "pygments_lexer": "ipython3",
   "version": "3.11.2"
  }
 },
 "nbformat": 4,
 "nbformat_minor": 2
}
