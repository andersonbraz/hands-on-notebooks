{
  "cells": [
    {
      "cell_type": "markdown",
      "metadata": {
        "colab_type": "text",
        "id": "view-in-github"
      },
      "source": [
        "<a href=\"https://colab.research.google.com/github/andersonbraz/hands-on-notebooks/blob/main/sample_pyspark_tv.ipynb\" target=\"_parent\"><img src=\"https://colab.research.google.com/assets/colab-badge.svg\" alt=\"Open In Colab\"/></a>"
      ]
    },
    {
      "cell_type": "markdown",
      "metadata": {
        "id": "T_TGNPWUs6E9"
      },
      "source": [
        "# Meu primeiro projeto PySpark"
      ]
    },
    {
      "cell_type": "markdown",
      "metadata": {
        "id": "o0BY22GPtAxg"
      },
      "source": [
        "## Instalação da biblioteca PySpark"
      ]
    },
    {
      "cell_type": "code",
      "execution_count": 1,
      "metadata": {
        "colab": {
          "base_uri": "https://localhost:8080/"
        },
        "id": "ZF5UVkNnr8O4",
        "outputId": "67780cc2-cccb-45d8-aa0a-a57b1f0fa861"
      },
      "outputs": [
        {
          "name": "stdout",
          "output_type": "stream",
          "text": [
            "Collecting pyspark\n",
            "  Downloading pyspark-3.5.1.tar.gz (317.0 MB)\n",
            "\u001b[2K     \u001b[90m━━━━━━━━━━━━━━━━━━━━━━━━━━━━━━━━━━━━━━━━\u001b[0m \u001b[32m317.0/317.0 MB\u001b[0m \u001b[31m3.2 MB/s\u001b[0m eta \u001b[36m0:00:00\u001b[0m\n",
            "\u001b[?25h  Preparing metadata (setup.py) ... \u001b[?25l\u001b[?25hdone\n",
            "Requirement already satisfied: py4j==0.10.9.7 in /usr/local/lib/python3.10/dist-packages (from pyspark) (0.10.9.7)\n",
            "Building wheels for collected packages: pyspark\n",
            "  Building wheel for pyspark (setup.py) ... \u001b[?25l\u001b[?25hdone\n",
            "  Created wheel for pyspark: filename=pyspark-3.5.1-py2.py3-none-any.whl size=317488491 sha256=809b1bbdd1bf1b844f0b969ad88944b7998e6ba8e43617dda43c2379755521f0\n",
            "  Stored in directory: /root/.cache/pip/wheels/80/1d/60/2c256ed38dddce2fdd93be545214a63e02fbd8d74fb0b7f3a6\n",
            "Successfully built pyspark\n",
            "Installing collected packages: pyspark\n",
            "Successfully installed pyspark-3.5.1\n"
          ]
        }
      ],
      "source": [
        "# !pip install pyspark"
      ]
    },
    {
      "cell_type": "markdown",
      "metadata": {
        "id": "vOVLf7qBtauF"
      },
      "source": [
        "## Importando bibliotecas necessárias"
      ]
    },
    {
      "cell_type": "code",
      "execution_count": 13,
      "metadata": {
        "id": "TDikiVuQtabS"
      },
      "outputs": [],
      "source": [
        "from pyspark.sql import SparkSession\n",
        "from pyspark.sql import functions as F\n",
        "from IPython.core.display import HTML                    #Função renderização html no Jupyter\n",
        "display(HTML(\"<style>pre { white-space: pre !important; }</style>\"))"
      ]
    },
    {
      "cell_type": "markdown",
      "metadata": {
        "id": "gXgtfA5G7GAq"
      },
      "source": [
        "## Funções úteis"
      ]
    },
    {
      "cell_type": "markdown",
      "metadata": {
        "id": "Z4Xmm9xx7F5F"
      },
      "source": []
    },
    {
      "cell_type": "markdown",
      "metadata": {
        "id": "DwrcEB51tFht"
      },
      "source": [
        "## Abrir uma sessão PySpark"
      ]
    },
    {
      "cell_type": "code",
      "execution_count": 2,
      "metadata": {
        "id": "HS28SOpFtJtX"
      },
      "outputs": [],
      "source": [
        "spark = SparkSession.builder.appName(\"MeuApp\").getOrCreate()"
      ]
    },
    {
      "cell_type": "code",
      "execution_count": 25,
      "metadata": {
        "colab": {
          "base_uri": "https://localhost:8080/"
        },
        "id": "pRY5fw1R3ODw",
        "outputId": "7247b692-003a-4f79-dd81-8f5c2d47f21b"
      },
      "outputs": [
        {
          "name": "stdout",
          "output_type": "stream",
          "text": [
            "+-------+-------+---------------------------------------------------+---------------------------------------------+----------------------------------------------------------------------------------------------------------------------------------------------------------------------------------------------------------------------------------------------------------------------------------------------------------------------------------------------------------------------------------------------------------------------------------------------------------------------------------------------------------------------------------------------------+---------------------------------------------------------------------+------------------+------------+------+---------+------------------------------------------------------------------------+------------------------------------------------------------------------------------------------------------------------------------------------------------+-------+--------------------------------+\n",
            "|show_id|type   |title                                              |director                                     |cast                                                                                                                                                                                                                                                                                                                                                                                                                                                                                                                                                |country                                                              |date_added        |release_year|rating|duration |listed_in                                                               |description                                                                                                                                                 |source |id                              |\n",
            "+-------+-------+---------------------------------------------------+---------------------------------------------+----------------------------------------------------------------------------------------------------------------------------------------------------------------------------------------------------------------------------------------------------------------------------------------------------------------------------------------------------------------------------------------------------------------------------------------------------------------------------------------------------------------------------------------------------+---------------------------------------------------------------------+------------------+------------+------+---------+------------------------------------------------------------------------+------------------------------------------------------------------------------------------------------------------------------------------------------------+-------+--------------------------------+\n",
            "|s1     |Movie  |Dick Johnson Is Dead                               |Kirsten Johnson                              |NULL                                                                                                                                                                                                                                                                                                                                                                                                                                                                                                                                                |United States                                                        |September 25, 2021|2020        |PG-13 |90 min   |Documentaries                                                           |As her father nears the end of his life, filmmaker Kirsten Johnson stages his death in inventive and comical ways to help them both face the inevitable.    |NETFLIX|068e418411da6a5cd5836b4dd723b4a7|\n",
            "|s2     |TV Show|Blood & Water                                      |NULL                                         |Ama Qamata, Khosi Ngema, Gail Mabalane, Thabang Molaba, Dillon Windvogel, Natasha Thahane, Arno Greeff, Xolile Tshabalala, Getmore Sithole, Cindy Mahlangu, Ryle De Morny, Greteli Fincham, Sello Maake Ka-Ncube, Odwa Gwanya, Mekaila Mathys, Sandi Schultz, Duane Williams, Shamilla Miller, Patrick Mofokeng                                                                                                                                                                                                                                     |South Africa                                                         |September 24, 2021|2021        |TV-MA |2 Seasons|International TV Shows, TV Dramas, TV Mysteries                         |After crossing paths at a party, a Cape Town teen sets out to prove whether a private-school swimming star is her sister who was abducted at birth.         |NETFLIX|69aa8d3ab487603ab3383e7781735b6c|\n",
            "|s3     |TV Show|Ganglands                                          |Julien Leclercq                              |Sami Bouajila, Tracy Gotoas, Samuel Jouy, Nabiha Akkari, Sofia Lesaffre, Salim Kechiouche, Noureddine Farihi, Geert Van Rampelberg, Bakary Diombera                                                                                                                                                                                                                                                                                                                                                                                                 |NULL                                                                 |September 24, 2021|2021        |TV-MA |1 Season |Crime TV Shows, International TV Shows, TV Action & Adventure           |To protect his family from a powerful drug lord, skilled thief Mehdi and his expert team of robbers are pulled into a violent and deadly turf war.          |NETFLIX|a4771fe69341acbd405efb2521af0f9f|\n",
            "|s4     |TV Show|Jailbirds New Orleans                              |NULL                                         |NULL                                                                                                                                                                                                                                                                                                                                                                                                                                                                                                                                                |NULL                                                                 |September 24, 2021|2021        |TV-MA |1 Season |Docuseries, Reality TV                                                  |Feuds, flirtations and toilet talk go down among the incarcerated women at the Orleans Justice Center in New Orleans on this gritty reality series.         |NETFLIX|7dec713da6c9a46e339d2677cd6621d3|\n",
            "|s5     |TV Show|Kota Factory                                       |NULL                                         |Mayur More, Jitendra Kumar, Ranjan Raj, Alam Khan, Ahsaas Channa, Revathi Pillai, Urvi Singh, Arun Kumar                                                                                                                                                                                                                                                                                                                                                                                                                                            |India                                                                |September 24, 2021|2021        |TV-MA |2 Seasons|International TV Shows, Romantic TV Shows, TV Comedies                  |In a city of coaching centers known to train India’s finest collegiate minds, an earnest but unexceptional student and his friends navigate campus life.    |NETFLIX|65233e9202b4d4d21c663540f8870034|\n",
            "|s6     |TV Show|Midnight Mass                                      |Mike Flanagan                                |Kate Siegel, Zach Gilford, Hamish Linklater, Henry Thomas, Kristin Lehman, Samantha Sloyan, Igby Rigney, Rahul Kohli, Annarah Cymone, Annabeth Gish, Alex Essoe, Rahul Abburi, Matt Biedel, Michael Trucco, Crystal Balint, Louis Oliver                                                                                                                                                                                                                                                                                                            |NULL                                                                 |September 24, 2021|2021        |TV-MA |1 Season |TV Dramas, TV Horror, TV Mysteries                                      |The arrival of a charismatic young priest brings glorious miracles, ominous mysteries and renewed religious fervor to a dying town desperate to believe.    |NETFLIX|75243cccae96a091dc2ec8841f215105|\n",
            "|s7     |Movie  |My Little Pony: A New Generation                   |Robert Cullen, José Luis Ucha                |Vanessa Hudgens, Kimiko Glenn, James Marsden, Sofia Carson, Liza Koshy, Ken Jeong, Elizabeth Perkins, Jane Krakowski, Michael McKean, Phil LaMarr                                                                                                                                                                                                                                                                                                                                                                                                   |NULL                                                                 |September 24, 2021|2021        |PG    |91 min   |Children & Family Movies                                                |Equestria's divided. But a bright-eyed hero believes Earth Ponies, Pegasi and Unicorns should be pals — and, hoof to heart, she’s determined to prove it.   |NETFLIX|8a389f339d89fcded3c24511bc3bea6e|\n",
            "|s8     |Movie  |Sankofa                                            |Haile Gerima                                 |Kofi Ghanaba, Oyafunmike Ogunlano, Alexandra Duah, Nick Medley, Mutabaruka, Afemo Omilami, Reggie Carter, Mzuri                                                                                                                                                                                                                                                                                                                                                                                                                                     |United States, Ghana, Burkina Faso, United Kingdom, Germany, Ethiopia|September 24, 2021|1993        |TV-MA |125 min  |Dramas, Independent Movies, International Movies                        |On a photo shoot in Ghana, an American model slips back in time, becomes enslaved on a plantation and bears witness to the agony of her ancestral past.     |NETFLIX|9fedfa7d7e1df8cee6268d010af16392|\n",
            "|s9     |TV Show|The Great British Baking Show                      |Andy Devonshire                              |Mel Giedroyc, Sue Perkins, Mary Berry, Paul Hollywood                                                                                                                                                                                                                                                                                                                                                                                                                                                                                               |United Kingdom                                                       |September 24, 2021|2021        |TV-14 |9 Seasons|British TV Shows, Reality TV                                            |A talented batch of amateur bakers face off in a 10-week competition, whipping up their best dishes in the hopes of being named the U.K.'s best.            |NETFLIX|effd3acf59000071b0a4a39d6275ae2b|\n",
            "|s10    |Movie  |The Starling                                       |Theodore Melfi                               |Melissa McCarthy, Chris O'Dowd, Kevin Kline, Timothy Olyphant, Daveed Diggs, Skyler Gisondo, Laura Harrier, Rosalind Chao, Kimberly Quinn, Loretta Devine, Ravi Kapoor                                                                                                                                                                                                                                                                                                                                                                              |United States                                                        |September 24, 2021|2021        |PG-13 |104 min  |Comedies, Dramas                                                        |A woman adjusting to life after a loss contends with a feisty bird that's taken over her garden — and a husband who's struggling to find a way forward.     |NETFLIX|54f5ef2690ac89bfed0a8b6e05da2125|\n",
            "|s11    |TV Show|Vendetta: Truth, Lies and The Mafia                |NULL                                         |NULL                                                                                                                                                                                                                                                                                                                                                                                                                                                                                                                                                |NULL                                                                 |September 24, 2021|2021        |TV-MA |1 Season |Crime TV Shows, Docuseries, International TV Shows                      |\"Sicily boasts a bold \"\"Anti-Mafia\"\" coalition. But what happens when those trying to bring down organized crime are accused of being criminals themselves?\"|NETFLIX|10c1640fb1e3081ba58e130ec9fd400c|\n",
            "|s12    |TV Show|Bangkok Breaking                                   |Kongkiat Komesiri                            |Sukollawat Kanarot, Sushar Manaying, Pavarit Mongkolpisit, Sahajak Boonthanakit, Suthipongse Thatphithakkul, Bhasaworn Bawronkirati, Daweerit Chullasapya, Waratthaya Wongchayaporn, Kittiphoom Wongpentak, Abhicha Thanachanun, Nophand Boonyai, Kittipong Khamsat, Arisara Wongchalee, Jaytiya Naiwattanakul, Pantipa Arunwattanachai, Panupan Jantanawong, Kungtap Saelim, Phumphat Chartsuriyakiat, Issara Veranitinunt, Keerati Sivakuae, Panjai Sirisuwan, Supranee Charoenpol, Suda Chuenban, Visaka Banhansupavat, Pitchatorn Santinatornkul|NULL                                                                 |September 23, 2021|2021        |TV-MA |1 Season |Crime TV Shows, International TV Shows, TV Action & Adventure           |Struggling to earn a living in Bangkok, a man joins an emergency rescue service and realizes he must unravel a citywide conspiracy.                         |NETFLIX|63ca218486d4cd5de554ddd711021021|\n",
            "|s13    |Movie  |Je Suis Karl                                       |Christian Schwochow                          |Luna Wedler, Jannis Niewöhner, Milan Peschel, Edin Hasanović, Anna Fialová, Marlon Boess, Victor Boccard, Fleur Geffrier, Aziz Dyab, Mélanie Fouché, Elizaveta Maximová                                                                                                                                                                                                                                                                                                                                                                             |Germany, Czech Republic                                              |September 23, 2021|2021        |TV-MA |127 min  |Dramas, International Movies                                            |After most of her family is murdered in a terrorist bombing, a young woman is unknowingly lured into joining the very group that killed them.               |NETFLIX|75dd8a6b0562e52515cb36db2aa623f8|\n",
            "|s14    |Movie  |Confessions of an Invisible Girl                   |Bruno Garotti                                |Klara Castanho, Lucca Picon, Júlia Gomes, Marcus Bessa, Kiria Malheiros, Fernanda Concon, Gabriel Lima, Caio Cabral, Leonardo Cidade, Jade Cardozo                                                                                                                                                                                                                                                                                                                                                                                                  |NULL                                                                 |September 22, 2021|2021        |TV-PG |91 min   |Children & Family Movies, Comedies                                      |When the clever but socially-awkward Tetê joins a new school, she'll do anything to fit in. But the queen bee among her classmates has other ideas.         |NETFLIX|7bd94ceba8e8dda7f91fd9470a558da4|\n",
            "|s15    |TV Show|Crime Stories: India Detectives                    |NULL                                         |NULL                                                                                                                                                                                                                                                                                                                                                                                                                                                                                                                                                |NULL                                                                 |September 22, 2021|2021        |TV-MA |1 Season |British TV Shows, Crime TV Shows, Docuseries                            |Cameras following Bengaluru police on the job offer a rare glimpse into the complex and challenging inner workings of four major crime investigations.      |NETFLIX|0374117c94a08d9c82eb1cf2fb454ae6|\n",
            "|s16    |TV Show|Dear White People                                  |NULL                                         |Logan Browning, Brandon P. Bell, DeRon Horton, Antoinette Robertson, John Patrick Amedori, Ashley Blaine Featherson, Marque Richardson, Giancarlo Esposito                                                                                                                                                                                                                                                                                                                                                                                          |United States                                                        |September 22, 2021|2021        |TV-MA |4 Seasons|TV Comedies, TV Dramas                                                  |\"Students of color navigate the daily slights and slippery politics of life at an Ivy League college that's not nearly as \"\"post-racial\"\" as it thinks.\"    |NETFLIX|1c9271a011b6e949a8d4affa8be84241|\n",
            "|s17    |Movie  |Europe's Most Dangerous Man: Otto Skorzeny in Spain|Pedro de Echave García, Pablo Azorín Williams|NULL                                                                                                                                                                                                                                                                                                                                                                                                                                                                                                                                                |NULL                                                                 |September 22, 2021|2020        |TV-MA |67 min   |Documentaries, International Movies                                     |Declassified documents reveal the post-WWII life of Otto Skorzeny, a close Hitler ally who escaped to Spain and became an adviser to world presidents.      |NETFLIX|ebbb0d9b53c9bc83393c8e1a3e6145cf|\n",
            "|s18    |TV Show|Falsa identidad                                    |NULL                                         |Luis Ernesto Franco, Camila Sodi, Sergio Goyri, Samadhi Zendejas, Eduardo Yáñez, Sonya Smith, Alejandro Camacho, Azela Robinson, Uriel del Toro, Géraldine Bazán, Gabriela Roel, Marcus Ornellas                                                                                                                                                                                                                                                                                                                                                    |Mexico                                                               |September 22, 2021|2020        |TV-MA |2 Seasons|Crime TV Shows, Spanish-Language TV Shows, TV Dramas                    |Strangers Diego and Isabel flee their home in Mexico and pretend to be a married couple to escape his drug-dealing enemies and her abusive husband.         |NETFLIX|e8ff429a8bb94de9b48ad2ac522eec25|\n",
            "|s19    |Movie  |Intrusion                                          |Adam Salky                                   |Freida Pinto, Logan Marshall-Green, Robert John Burke, Megan Elisabeth Kelly, Sarah Minnich, Hayes Hargrove, Mark Sivertsen, Brandon Fierro, Antonio Valles, Clint Obenchain                                                                                                                                                                                                                                                                                                                                                                        |NULL                                                                 |September 22, 2021|2021        |TV-14 |94 min   |Thrillers                                                               |After a deadly home invasion at a couple’s new dream house, the traumatized wife searches for answers — and learns the real danger is just beginning.       |NETFLIX|39702f238d9fe8ee6bcff00894e23f14|\n",
            "|s20    |TV Show|Jaguar                                             |NULL                                         |Blanca Suárez, Iván Marcos, Óscar Casas, Adrián Lastra, Francesc Garrido, Stefan Weinert, Julia Möller, Alicia Chojnowski                                                                                                                                                                                                                                                                                                                                                                                                                           |NULL                                                                 |September 22, 2021|2021        |TV-MA |1 Season |International TV Shows, Spanish-Language TV Shows, TV Action & Adventure|In the 1960s, a Holocaust survivor joins a group of self-trained spies who seek justice against Nazis fleeing to Spain to hide after WWII.                  |NETFLIX|fac8f46f64593fe57e13c4ff49921ac1|\n",
            "+-------+-------+---------------------------------------------------+---------------------------------------------+----------------------------------------------------------------------------------------------------------------------------------------------------------------------------------------------------------------------------------------------------------------------------------------------------------------------------------------------------------------------------------------------------------------------------------------------------------------------------------------------------------------------------------------------------+---------------------------------------------------------------------+------------------+------------+------+---------+------------------------------------------------------------------------+------------------------------------------------------------------------------------------------------------------------------------------------------------+-------+--------------------------------+\n",
            "only showing top 20 rows\n",
            "\n"
          ]
        }
      ],
      "source": [
        "df_titles_netflix = spark.read.option(\"delimiter\", \",\").option(\"header\", True).csv(\"sources/netflix_titles.csv\")\n",
        "df_titles_netflix = df_titles_netflix.withColumn(\"source\", F.lit(\"NETFLIX\"))\n",
        "df_titles_netflix = df_titles_netflix.withColumn(\"id\", F.md5(F.col(\"title\")))\n",
        "\n",
        "df_titles_netflix.show(truncate=False)"
      ]
    },
    {
      "cell_type": "code",
      "execution_count": 9,
      "metadata": {
        "colab": {
          "base_uri": "https://localhost:8080/"
        },
        "id": "f_HnmEjG4VCi",
        "outputId": "078aa188-32ec-4923-f6ec-2bb8b3075b5e"
      },
      "outputs": [
        {
          "name": "stdout",
          "output_type": "stream",
          "text": [
            "+-------+-------+---------------------------------+---------------------------+---------------------------------------------------------------------------------------------------------------------------------------------------------------------------------------------------------------------------------------------------------------------------------------------------------+--------------+--------------+------------+------+--------+---------------------------------+---------------------------------------------------------------------------------------------------------------------------------------------------------------------------------------------------------------------------------------------------------------------------------------------------------------------------------------------------------------------------------------------------------+------+\n",
            "|show_id|type   |title                            |director                   |cast                                                                                                                                                                                                                                                                                                     |country       |date_added    |release_year|rating|duration|listed_in                        |description                                                                                                                                                                                                                                                                                                                                                                                              |source|\n",
            "+-------+-------+---------------------------------+---------------------------+---------------------------------------------------------------------------------------------------------------------------------------------------------------------------------------------------------------------------------------------------------------------------------------------------------+--------------+--------------+------------+------+--------+---------------------------------+---------------------------------------------------------------------------------------------------------------------------------------------------------------------------------------------------------------------------------------------------------------------------------------------------------------------------------------------------------------------------------------------------------+------+\n",
            "|s1     |Movie  |The Grand Seduction              |Don McKellar               |Brendan Gleeson, Taylor Kitsch, Gordon Pinsent                                                                                                                                                                                                                                                           |Canada        |March 30, 2021|2014        |NULL  |113 min |Comedy, Drama                    |A small fishing village must procure a local doctor to secure a lucrative business contract. When unlikely candidate and big city doctor Paul Lewis lands in their lap for a trial residence, the townsfolk rally together to charm him into staying. As the doctor's time in the village winds to a close, acting mayor Murray French has no choice but to pull out all the stops.                      |PRIME |\n",
            "|s2     |Movie  |Take Care Good Night             |Girish Joshi               |Mahesh Manjrekar, Abhay Mahajan, Sachin Khedekar                                                                                                                                                                                                                                                         |India         |March 30, 2021|2018        |13+   |110 min |Drama, International             |A Metro Family decides to fight a Cyber Criminal threatening their stability and pride.                                                                                                                                                                                                                                                                                                                  |PRIME |\n",
            "|s3     |Movie  |Secrets of Deception             |Josh Webber                |Tom Sizemore, Lorenzo Lamas, Robert LaSardo, Richard Jones, Yancey Arias, Noel Gugliemi                                                                                                                                                                                                                  |United States |March 30, 2021|2017        |NULL  |74 min  |Action, Drama, Suspense          |After a man discovers his wife is cheating on him with a neighborhood kid he goes down a furious path of self-destruction                                                                                                                                                                                                                                                                                |PRIME |\n",
            "|s4     |Movie  |Pink: Staying True               |Sonia Anderson             |Interviews with: Pink, Adele, Beyoncé, Britney Spears, Christina Aguilera, more!                                                                                                                                                                                                                         |United States |March 30, 2021|2014        |NULL  |69 min  |Documentary                      |\"Pink breaks the mold once again, bringing her career to a new level in 2013 with a world tour that entertains unlike ever before! Get inside access to \"\"the girl who got the party started\"\" with exclusive interviews and rare live performances.\"                                                                                                                                                    |PRIME |\n",
            "|s5     |Movie  |Monster Maker                    |Giles Foster               |Harry Dean Stanton, Kieran O'Brien, George Costigan, Amanda Dickinson, Alison Steadman, Grant Bardsley, Bill Moody, Matthew Scurfield                                                                                                                                                                    |United Kingdom|March 30, 2021|1989        |NULL  |45 min  |Drama, Fantasy                   |Teenage Matt Banting wants to work with a famous but eccentric creature/special effects man named Chancey Bellows. He gets more than he bargained for when one of the creatures, the giant dragon-like Ultragorgon, takes Matt under his wing. Matt is forced to confront his inner monsters while working out his issues with his father.                                                               |PRIME |\n",
            "|s6     |Movie  |Living With Dinosaurs            |Paul Weiland               |Gregory Chisholm, Juliet Stevenson, Brian Henson, Michael Maloney                                                                                                                                                                                                                                        |United Kingdom|March 30, 2021|1989        |NULL  |52 min  |Fantasy, Kids                    |The story unfolds in a an English seaside town, where Dom, an only child, faces the imminent arrival of a new sibling, and subsequently diminished attention from his mother. A stuffed toy dinosaur named Dog is Dom's only confidant – Dom relies on his friend heavily for support as he confronts his problems, accepts the changes in his life, and understands the love he has for his parents.    |PRIME |\n",
            "|s7     |Movie  |Hired Gun                        |Fran Strine                |Alice Cooper, Liberty DeVitto, Ray Parker Jr., David Foster, Jason Hook, Steve Vai, Phil X, Rudy Sarzo, Jay Graydon, Rob Zombie, Kenny Aronoff, Steve Lukather, Justin Derrico, Eva Gardner, John 5, Eric Singer, Derek St. Holmes, Paul Bushnell, Jason Newsted, Glen Sobel, Nita Strauss, Chris Johnson|United States |March 30, 2021|2017        |NULL  |98 min  |Documentary, Special Interest    |\"They are the \"\"First Call                                                                                                                                                                                                                                                                                                                                                                               |PRIME |\n",
            "|s8     |Movie  |Grease Live!                     |Thomas Kail, Alex Rudzinski|Julianne Hough, Aaron Tveit, Vanessa Hudgens, Keke Palmer, Carly Rae Jepson, Mario Lopez, Carlos PenaVega, Kether Donohue, Jordan Fisher, David Del Rio, Andrew Call, Wendell Pierce, Boyz II Men, Jessie J, Ana Gasteyer, Didi Conn                                                                     |United States |March 30, 2021|2016        |NULL  |131 min |Comedy                           |This honest, uncompromising comedy chronicles the war stories and sexual misadventures of a tight circle of lovers and friends fighting to get their acts together, for better or worse.                                                                                                                                                                                                                 |PRIME |\n",
            "|s9     |Movie  |Global Meltdown                  |Daniel Gilboy              |Michael Paré, Leanne Khol Young, Patrick J. MacEachern                                                                                                                                                                                                                                                   |Canada        |March 30, 2021|2017        |NULL  |87 min  |Action, Science Fiction, Suspense|A helicopter pilot and an environmental scientist lead a exodus of survivors in a search for a safe haven after a catastrophic tectonic event causes the crust of the earth to break apart.                                                                                                                                                                                                              |PRIME |\n",
            "|s10    |Movie  |David's Mother                   |Robert Allan Ackerman      |Kirstie Alley, Sam Waterston, Stockard Channing                                                                                                                                                                                                                                                          |United States |April 1, 2021 |1994        |NULL  |92 min  |Drama                            |\"Sally Goodson is a devoted mother to her autistic son David. Abandoned by her husband, Sally has managed to keep her son out of \"\"the System\"\"                                                                                                                                                                                                                                                          |PRIME |\n",
            "|s11    |Movie  |Forest Fairies                   |Justin G. Dyck             |Emily Wilder, Adrian Cowan, Gary Mckenzie, Jeremy Ninaber, Brenda Somers, Brian Carleton, Lora Burke, Winny Clarke, Mercedes Morris, Rebecca Perry, Emily Agard, Graham Gauthier                                                                                                                         |Canada        |April 4, 2021 |2016        |NULL  |88 min  |Adventure, Kids                  |Amanda stumbles upon a hidden village of fairies in the forest. They help her thwart a scheming land developer's plan to trick her mother into selling the family inn.                                                                                                                                                                                                                                   |PRIME |\n",
            "|s12    |Movie  |Take Care                        |Liz Tuccillo               |Leslie Bibb, Kevin Curtis, Nadia Dajani                                                                                                                                                                                                                                                                  |United States |April 10, 2021|2014        |NULL  |93 min  |Comedy                           |When a car crash leaves Frannie immobilized, she is brushed off by everyone she can count on. With nowhere else to turn, Frannie reluctantly calls her ex, Devon, for help. It isn't long before old wounds emerge and are made worse when Devon's crazy new girlfriend shows up.                                                                                                                        |PRIME |\n",
            "|s13    |Movie  |The Night Eats The World         |Dominique Rocher           |Anders Danielsen Lie, Golshifteh Farahani, Denis Lavant, Sigrid Bouaziz, David Kammenos                                                                                                                                                                                                                  |France        |April 17, 2021|2018        |NULL  |94 min  |Horror, Suspense                 |After waking up in an apartment the night after a raging party, Sam comes face to face with his new reality, an army of zombies have invaded the streets of Paris and he is the lone survivor. Petrified with fear, he barricades himself inside the building to survive. He wonders how long can he last in silence and solitude, and the answer comes when he learns that he's not all alone after all.|PRIME |\n",
            "|s14    |Movie  |Resilencia                       |Jep Barcelona              |Rafinha Alcantara, Marc-André Ter Stegen, Sergi Roberto, Dr. Ramón Cugat, Mazinho, Xavi Arruebo, Celia Ferreira Da Silva, Ángel Lapuebla, Javier Enríquez, Thiago Alcantara, Valeria Alcantara                                                                                                           |Spain         |April 24, 2021|2020        |NULL  |46 min  |Documentary, Sports              |The documentary follows the midfielder’s everyday life for six months. It’s a sincere portrayal by Rafinha himself, who opened his home for the cameras to film every moment, even allowing them into the operating room.                                                                                                                                                                                |PRIME |\n",
            "|s15    |Movie  |Elon Musk: The Real Life Iron Man|Sonia Anderson             |Elon Musk, Per Wimmer, Julie Anderson-Ankenbrandt, Cary Cooper                                                                                                                                                                                                                                           |United Kingdom|May 2, 2021   |2018        |NULL  |74 min  |Documentary                      |Discover the meteoric rise of Elon Musk, the man who is transforming the way we think about travel technology through electric cars, the Hyperloop, and revolutionary ideas on how we live through artificial intelligence and colonizing Mars.                                                                                                                                                          |PRIME |\n",
            "|s16    |Movie  |Summer '03                       |Becca Gleason              |Joey King, Jack Kilmer, Andrea Savage, Paul Scheer, June Squibb, Erin Darke, Stephen Ruffin, Kelly Lamor Wilson, Logan Medina, Travis James, Bill Eudaly, Elise DuQuette                                                                                                                                 |United States |June 3, 2021  |2019        |NULL  |96 min  |Comedy, Drama                    |Summer '03 is the hilarious story of 16-year-old Jamie and her family, who are shocked after her calculating grandmother unveils an array of family secrets on her deathbed, one involving religion, the other of a more personal nature. Jamie is left to navigate her own love life and her closest friendships in the midst of this family crisis, and one of the most memorable summers of her life. |PRIME |\n",
            "|s17    |Movie  |Zoombies                         |Glenn Miller               |Marcus Anderson, Kaiwi Lyman, Andrew Asper                                                                                                                                                                                                                                                               |NULL          |NULL          |2016        |13+   |87 min  |Horror, Science Fiction          |When a strange virus quickly spreads through a safari park and turns all the zoo animals undead, those left in the park must stop the creatures before they escape and zombify the whole city.                                                                                                                                                                                                           |PRIME |\n",
            "|s18    |TV Show|Zoo Babies                       |NULL                       |Narrator - Gillian Barlett                                                                                                                                                                                                                                                                               |NULL          |NULL          |2008        |ALL   |1 Season|Kids, Special Interest           |A heart warming and inspiring series that welcomes the arrival of new members of the animal kingdom in Zoo's around the world, as well as showcasing endangered species being born in captivity, 'Zoo Babies' is perfect family viewing packaged with fun, colourful graphics designed to capture the attention of little ones.                                                                          |PRIME |\n",
            "|s19    |TV Show|Zoë Coombs Marr: Bossy Bottom    |NULL                       |Zoë Coombs Marr                                                                                                                                                                                                                                                                                          |NULL          |NULL          |2020        |18+   |1 Season|Comedy, Talk Show and Variety    |Zoë Coombs Marr has been on hiatus. Sort of. For six years, she won stacks of awards and acclaim as a hack comic with a neckbeard called Dave. Whatever. She’s scraped off the neckbeard and is BAAAACK… as herself. There is no comedian quite like Zoë. Bossy Bottom is a joyously silly return to very serious stand up from the MICF Most Outstanding Show winner and Edinburgh Best Show nominee.   |PRIME |\n",
            "|s20    |Movie  |Zoe                              |Drake Doremus              |Ewan McGregor, Léa Seydoux, Theo James, Miranda Otto, Rashida Jones, Christina Aguilera, Matthew Gray Gubler, Anthony Shim                                                                                                                                                                               |NULL          |NULL          |2018        |R     |104 min |Science Fiction                  |ZOE tells a tale of forbidden love between an engineer and a robot. ZOE (Léa Seydoux) and COLE (Ewan McGregor) are colleagues and veiled lovers at a lab working to perfect romantic relationships. But their relationship is threatened when Zoe discovers the truth about their relationship, sending them into a spiral of confusion, betrayal and the most intense of human emotions, love.          |PRIME |\n",
            "+-------+-------+---------------------------------+---------------------------+---------------------------------------------------------------------------------------------------------------------------------------------------------------------------------------------------------------------------------------------------------------------------------------------------------+--------------+--------------+------------+------+--------+---------------------------------+---------------------------------------------------------------------------------------------------------------------------------------------------------------------------------------------------------------------------------------------------------------------------------------------------------------------------------------------------------------------------------------------------------+------+\n",
            "only showing top 20 rows\n",
            "\n"
          ]
        }
      ],
      "source": [
        "df_titles_prime = spark.read.option(\"delimiter\", \",\").option(\"header\", True).csv(\"sources/amazon_prime_titles.csv\")\n",
        "df_titles_prime = df_titles_prime.withColumn(\"source\", F.lit(\"PRIME\"))\n",
        "df_titles_prime.show(truncate=False)"
      ]
    },
    {
      "cell_type": "code",
      "execution_count": 11,
      "metadata": {
        "id": "wj6Y1twr5xN3"
      },
      "outputs": [],
      "source": [
        "df_titles_netflix.createOrReplaceTempView(\"titles_netflix\")\n",
        "df_titles_prime.createOrReplaceTempView(\"titles_prime\")"
      ]
    },
    {
      "cell_type": "code",
      "execution_count": 12,
      "metadata": {
        "colab": {
          "base_uri": "https://localhost:8080/"
        },
        "id": "ZAiHkx-b6kyA",
        "outputId": "7e7c90f4-2cea-4afa-afaa-eb29aadae1be"
      },
      "outputs": [
        {
          "name": "stdout",
          "output_type": "stream",
          "text": [
            "+-------+-------+--------------------+--------------------+--------------------+--------------------+------------------+------------+------+---------+--------------------+--------------------+-------+\n",
            "|show_id|   type|               title|            director|                cast|             country|        date_added|release_year|rating| duration|           listed_in|         description| source|\n",
            "+-------+-------+--------------------+--------------------+--------------------+--------------------+------------------+------------+------+---------+--------------------+--------------------+-------+\n",
            "|     s1|  Movie|Dick Johnson Is Dead|     Kirsten Johnson|                NULL|       United States|September 25, 2021|        2020| PG-13|   90 min|       Documentaries|As her father nea...|NETFLIX|\n",
            "|     s2|TV Show|       Blood & Water|                NULL|Ama Qamata, Khosi...|        South Africa|September 24, 2021|        2021| TV-MA|2 Seasons|International TV ...|After crossing pa...|NETFLIX|\n",
            "|     s3|TV Show|           Ganglands|     Julien Leclercq|Sami Bouajila, Tr...|                NULL|September 24, 2021|        2021| TV-MA| 1 Season|Crime TV Shows, I...|To protect his fa...|NETFLIX|\n",
            "|     s4|TV Show|Jailbirds New Orl...|                NULL|                NULL|                NULL|September 24, 2021|        2021| TV-MA| 1 Season|Docuseries, Reali...|Feuds, flirtation...|NETFLIX|\n",
            "|     s5|TV Show|        Kota Factory|                NULL|Mayur More, Jiten...|               India|September 24, 2021|        2021| TV-MA|2 Seasons|International TV ...|In a city of coac...|NETFLIX|\n",
            "|     s6|TV Show|       Midnight Mass|       Mike Flanagan|Kate Siegel, Zach...|                NULL|September 24, 2021|        2021| TV-MA| 1 Season|TV Dramas, TV Hor...|The arrival of a ...|NETFLIX|\n",
            "|     s7|  Movie|My Little Pony: A...|Robert Cullen, Jo...|Vanessa Hudgens, ...|                NULL|September 24, 2021|        2021|    PG|   91 min|Children & Family...|Equestria's divid...|NETFLIX|\n",
            "|     s8|  Movie|             Sankofa|        Haile Gerima|Kofi Ghanaba, Oya...|United States, Gh...|September 24, 2021|        1993| TV-MA|  125 min|Dramas, Independe...|On a photo shoot ...|NETFLIX|\n",
            "|     s9|TV Show|The Great British...|     Andy Devonshire|Mel Giedroyc, Sue...|      United Kingdom|September 24, 2021|        2021| TV-14|9 Seasons|British TV Shows,...|A talented batch ...|NETFLIX|\n",
            "|    s10|  Movie|        The Starling|      Theodore Melfi|Melissa McCarthy,...|       United States|September 24, 2021|        2021| PG-13|  104 min|    Comedies, Dramas|A woman adjusting...|NETFLIX|\n",
            "|    s11|TV Show|Vendetta: Truth, ...|                NULL|                NULL|                NULL|September 24, 2021|        2021| TV-MA| 1 Season|Crime TV Shows, D...|\"Sicily boasts a ...|NETFLIX|\n",
            "|    s12|TV Show|    Bangkok Breaking|   Kongkiat Komesiri|Sukollawat Kanaro...|                NULL|September 23, 2021|        2021| TV-MA| 1 Season|Crime TV Shows, I...|Struggling to ear...|NETFLIX|\n",
            "|    s13|  Movie|        Je Suis Karl| Christian Schwochow|Luna Wedler, Jann...|Germany, Czech Re...|September 23, 2021|        2021| TV-MA|  127 min|Dramas, Internati...|After most of her...|NETFLIX|\n",
            "|    s14|  Movie|Confessions of an...|       Bruno Garotti|Klara Castanho, L...|                NULL|September 22, 2021|        2021| TV-PG|   91 min|Children & Family...|When the clever b...|NETFLIX|\n",
            "|    s15|TV Show|Crime Stories: In...|                NULL|                NULL|                NULL|September 22, 2021|        2021| TV-MA| 1 Season|British TV Shows,...|Cameras following...|NETFLIX|\n",
            "|    s16|TV Show|   Dear White People|                NULL|Logan Browning, B...|       United States|September 22, 2021|        2021| TV-MA|4 Seasons|TV Comedies, TV D...|\"Students of colo...|NETFLIX|\n",
            "|    s17|  Movie|Europe's Most Dan...|Pedro de Echave G...|                NULL|                NULL|September 22, 2021|        2020| TV-MA|   67 min|Documentaries, In...|Declassified docu...|NETFLIX|\n",
            "|    s18|TV Show|     Falsa identidad|                NULL|Luis Ernesto Fran...|              Mexico|September 22, 2021|        2020| TV-MA|2 Seasons|Crime TV Shows, S...|Strangers Diego a...|NETFLIX|\n",
            "|    s19|  Movie|           Intrusion|          Adam Salky|Freida Pinto, Log...|                NULL|September 22, 2021|        2021| TV-14|   94 min|           Thrillers|After a deadly ho...|NETFLIX|\n",
            "|    s20|TV Show|              Jaguar|                NULL|Blanca Suárez, Iv...|                NULL|September 22, 2021|        2021| TV-MA| 1 Season|International TV ...|In the 1960s, a H...|NETFLIX|\n",
            "+-------+-------+--------------------+--------------------+--------------------+--------------------+------------------+------------+------+---------+--------------------+--------------------+-------+\n",
            "only showing top 20 rows\n",
            "\n"
          ]
        }
      ],
      "source": [
        "df_all = spark.sql(\"SELECT * FROM titles_netflix\")\n",
        "df_all.show()"
      ]
    },
    {
      "cell_type": "markdown",
      "metadata": {
        "id": "v23IGLXFt8px"
      },
      "source": [
        "## Referências\n",
        "\n",
        "- [Documentação Oficial](https://spark.apache.org/docs/latest/)\n",
        "- [Apache Spark Tutorial](https://sparkbyexamples.com/)"
      ]
    },
    {
      "cell_type": "code",
      "execution_count": 3,
      "metadata": {
        "id": "VhIyZhfjt-4O"
      },
      "outputs": [],
      "source": []
    }
  ],
  "metadata": {
    "colab": {
      "authorship_tag": "ABX9TyPtpWn6ojTVC+d8TOVAxmd2",
      "include_colab_link": true,
      "provenance": []
    },
    "kernelspec": {
      "display_name": "Python 3",
      "name": "python3"
    },
    "language_info": {
      "name": "python"
    }
  },
  "nbformat": 4,
  "nbformat_minor": 0
}
