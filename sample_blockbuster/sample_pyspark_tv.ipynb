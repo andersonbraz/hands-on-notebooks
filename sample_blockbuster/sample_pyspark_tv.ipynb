{
  "cells": [
    {
      "cell_type": "markdown",
      "metadata": {
        "colab_type": "text",
        "id": "view-in-github"
      },
      "source": [
        "<a href=\"https://colab.research.google.com/github/andersonbraz/hands-on-notebooks/blob/main/sample_pyspark_tv.ipynb\" target=\"_parent\"><img src=\"https://colab.research.google.com/assets/colab-badge.svg\" alt=\"Open In Colab\"/></a>"
      ]
    },
    {
      "cell_type": "markdown",
      "metadata": {
        "id": "T_TGNPWUs6E9"
      },
      "source": [
        "# Meu primeiro projeto PySpark"
      ]
    },
    {
      "cell_type": "markdown",
      "metadata": {
        "id": "o0BY22GPtAxg"
      },
      "source": [
        "## Instalação da biblioteca PySpark"
      ]
    },
    {
      "cell_type": "code",
      "execution_count": null,
      "metadata": {
        "colab": {
          "base_uri": "https://localhost:8080/"
        },
        "id": "ZF5UVkNnr8O4",
        "outputId": "67780cc2-cccb-45d8-aa0a-a57b1f0fa861"
      },
      "outputs": [],
      "source": [
        "# !pip install pyspark"
      ]
    },
    {
      "cell_type": "markdown",
      "metadata": {
        "id": "vOVLf7qBtauF"
      },
      "source": [
        "## Importando bibliotecas necessárias"
      ]
    },
    {
      "cell_type": "code",
      "execution_count": null,
      "metadata": {
        "id": "TDikiVuQtabS"
      },
      "outputs": [],
      "source": [
        "from pyspark.sql import SparkSession\n",
        "from pyspark.sql import functions as F\n",
        "from IPython.core.display import HTML                    #Função renderização html no Jupyter\n",
        "display(HTML(\"<style>pre { white-space: pre !important; }</style>\"))"
      ]
    },
    {
      "cell_type": "markdown",
      "metadata": {
        "id": "gXgtfA5G7GAq"
      },
      "source": [
        "## Funções úteis"
      ]
    },
    {
      "cell_type": "markdown",
      "metadata": {
        "id": "Z4Xmm9xx7F5F"
      },
      "source": []
    },
    {
      "cell_type": "markdown",
      "metadata": {
        "id": "DwrcEB51tFht"
      },
      "source": [
        "## Abrir uma sessão PySpark"
      ]
    },
    {
      "cell_type": "code",
      "execution_count": null,
      "metadata": {
        "id": "HS28SOpFtJtX"
      },
      "outputs": [],
      "source": [
        "spark = SparkSession.builder.appName(\"MeuApp\").getOrCreate()"
      ]
    },
    {
      "cell_type": "code",
      "execution_count": null,
      "metadata": {
        "colab": {
          "base_uri": "https://localhost:8080/"
        },
        "id": "pRY5fw1R3ODw",
        "outputId": "7247b692-003a-4f79-dd81-8f5c2d47f21b"
      },
      "outputs": [],
      "source": [
        "df_titles_netflix = spark.read.option(\"delimiter\", \",\").option(\"header\", True).csv(\"sources/netflix_titles.csv\")\n",
        "df_titles_netflix = df_titles_netflix.withColumn(\"source\", F.lit(\"NETFLIX\"))\n",
        "df_titles_netflix = df_titles_netflix.withColumn(\"id\", F.md5(F.col(\"title\")))\n",
        "\n",
        "df_titles_netflix.show(truncate=False)"
      ]
    },
    {
      "cell_type": "code",
      "execution_count": null,
      "metadata": {
        "colab": {
          "base_uri": "https://localhost:8080/"
        },
        "id": "f_HnmEjG4VCi",
        "outputId": "078aa188-32ec-4923-f6ec-2bb8b3075b5e"
      },
      "outputs": [],
      "source": [
        "df_titles_prime = spark.read.option(\"delimiter\", \",\").option(\"header\", True).csv(\"sources/amazon_prime_titles.csv\")\n",
        "df_titles_prime = df_titles_prime.withColumn(\"source\", F.lit(\"PRIME\"))\n",
        "df_titles_prime.show(truncate=False)"
      ]
    },
    {
      "cell_type": "code",
      "execution_count": null,
      "metadata": {
        "id": "wj6Y1twr5xN3"
      },
      "outputs": [],
      "source": [
        "df_titles_netflix.createOrReplaceTempView(\"titles_netflix\")\n",
        "df_titles_prime.createOrReplaceTempView(\"titles_prime\")"
      ]
    },
    {
      "cell_type": "code",
      "execution_count": null,
      "metadata": {
        "colab": {
          "base_uri": "https://localhost:8080/"
        },
        "id": "ZAiHkx-b6kyA",
        "outputId": "7e7c90f4-2cea-4afa-afaa-eb29aadae1be"
      },
      "outputs": [],
      "source": [
        "df_all = spark.sql(\"SELECT * FROM titles_netflix\")\n",
        "df_all.show()"
      ]
    },
    {
      "cell_type": "markdown",
      "metadata": {
        "id": "v23IGLXFt8px"
      },
      "source": [
        "## Referências\n",
        "\n",
        "- [Documentação Oficial](https://spark.apache.org/docs/latest/)\n",
        "- [Apache Spark Tutorial](https://sparkbyexamples.com/)"
      ]
    },
    {
      "cell_type": "code",
      "execution_count": null,
      "metadata": {
        "id": "VhIyZhfjt-4O"
      },
      "outputs": [],
      "source": []
    }
  ],
  "metadata": {
    "colab": {
      "authorship_tag": "ABX9TyPtpWn6ojTVC+d8TOVAxmd2",
      "include_colab_link": true,
      "provenance": []
    },
    "kernelspec": {
      "display_name": "Python 3",
      "name": "python3"
    },
    "language_info": {
      "codemirror_mode": {
        "name": "ipython",
        "version": 3
      },
      "file_extension": ".py",
      "mimetype": "text/x-python",
      "name": "python",
      "nbconvert_exporter": "python",
      "pygments_lexer": "ipython3",
      "version": "3.11.2"
    }
  },
  "nbformat": 4,
  "nbformat_minor": 0
}
