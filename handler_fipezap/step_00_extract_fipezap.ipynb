{
 "cells": [
  {
   "cell_type": "code",
   "execution_count": 1,
   "metadata": {},
   "outputs": [],
   "source": [
    "import os\n",
    "import requests\n",
    "import time\n",
    "import pandas as pd\n",
    "from io import BytesIO\n",
    "from datetime import datetime"
   ]
  },
  {
   "cell_type": "code",
   "execution_count": 2,
   "metadata": {},
   "outputs": [],
   "source": [
    "URL_FIPEZAP = \"https://downloads.fipe.org.br/indices/fipezap/fipezap-serieshistoricas.xlsx\"\n",
    "FULL_PATH = os.getcwd()\n",
    "DT_BASE = datetime.now().strftime(\"%Y-%m-%d\")"
   ]
  },
  {
   "cell_type": "code",
   "execution_count": 3,
   "metadata": {},
   "outputs": [],
   "source": [
    "class FipeZap:\n",
    "    \n",
    "    def __init__(self, url):\n",
    "        self.url = url\n",
    "            \n",
    "    def get_data_excel(self):\n",
    "        \n",
    "        max_tentativas = 5\n",
    "        intervalo = 15\n",
    "        \n",
    "        for tentativa in range(max_tentativas):\n",
    "            \n",
    "            response = requests.get(self.url, verify=False)\n",
    "            \n",
    "            if response.status_code == 200:\n",
    "                \n",
    "                content = response.content\n",
    "                \n",
    "                df = pd.read_excel(BytesIO(content), sheet_name=\"Índice FipeZAP\", header=3, usecols=[1, 2, 7], engine=\"openpyxl\")\n",
    "                \n",
    "                ultimo_indice = df['Total'].last_valid_index()\n",
    "                df = df.iloc[:ultimo_indice + 1]\n",
    "                df['DT_REG_IC'] = pd.to_datetime(df['Data'])\n",
    "                df['NM_IC'] = \"FIPEZAP\"\n",
    "                df['VL_IC'] = df['Total']\n",
    "                df['VL_VRC_IC'] = df['Total.1'] * 100\n",
    "                df['DT_REF'] = f\"{DT_BASE}\"\n",
    "                df = df.drop(['Data', 'Total', 'Total.1'], axis = 1)\n",
    "                    \n",
    "                print(f\"Requisição bem-sucedida! Status code: {response.status_code}\")\n",
    "                \n",
    "                return df\n",
    "            \n",
    "            else:\n",
    "                \n",
    "                print(f\"Tentativa {tentativa + 1}: Status code {response.status_code}. Tentando novamente em {intervalo} segundos...\")\n",
    "                time.sleep(intervalo)\n",
    "                \n",
    "        print(f\"Não foi possível obter uma resposta 200 após {max_tentativas} tentativas.\")\n",
    "        \n",
    "        return None\n",
    "        "
   ]
  },
  {
   "cell_type": "code",
   "execution_count": 4,
   "metadata": {},
   "outputs": [
    {
     "name": "stderr",
     "output_type": "stream",
     "text": [
      "/root/projects/hands-on-notebooks/.venv/lib/python3.11/site-packages/urllib3/connectionpool.py:1103: InsecureRequestWarning: Unverified HTTPS request is being made to host 'downloads.fipe.org.br'. Adding certificate verification is strongly advised. See: https://urllib3.readthedocs.io/en/latest/advanced-usage.html#tls-warnings\n",
      "  warnings.warn(\n"
     ]
    },
    {
     "name": "stdout",
     "output_type": "stream",
     "text": [
      "Requisição bem-sucedida! Status code: 200\n"
     ]
    }
   ],
   "source": [
    "fipezap = FipeZap(f\"{URL_FIPEZAP}\")\n",
    "df = fipezap.get_data_excel()\n",
    "\n",
    "if~(df is None):\n",
    "    df.to_csv(f\"{FULL_PATH}/dados_fipezap.csv\", index = False)\n",
    "else:\n",
    "    print(f\"Não foi possível alcançar a url: {URL_FIPEZAP}.\")"
   ]
  }
 ],
 "metadata": {
  "kernelspec": {
   "display_name": ".venv",
   "language": "python",
   "name": "python3"
  },
  "language_info": {
   "codemirror_mode": {
    "name": "ipython",
    "version": 3
   },
   "file_extension": ".py",
   "mimetype": "text/x-python",
   "name": "python",
   "nbconvert_exporter": "python",
   "pygments_lexer": "ipython3",
   "version": "3.11.2"
  }
 },
 "nbformat": 4,
 "nbformat_minor": 2
}
