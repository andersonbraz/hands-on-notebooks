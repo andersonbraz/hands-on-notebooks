{
 "cells": [
  {
   "cell_type": "code",
   "execution_count": 1,
   "metadata": {},
   "outputs": [],
   "source": [
    "from pyspark.sql import SparkSession\n",
    "from pyspark.sql import DataFrame\n",
    "from pyspark.sql import functions as F\n",
    "from functools import reduce"
   ]
  },
  {
   "cell_type": "code",
   "execution_count": 2,
   "metadata": {},
   "outputs": [
    {
     "name": "stderr",
     "output_type": "stream",
     "text": [
      "your 131072x1 screen size is bogus. expect trouble\n",
      "Setting default log level to \"WARN\".\n",
      "To adjust logging level use sc.setLogLevel(newLevel). For SparkR, use setLogLevel(newLevel).\n",
      "24/06/02 11:34:49 WARN NativeCodeLoader: Unable to load native-hadoop library for your platform... using builtin-java classes where applicable\n"
     ]
    }
   ],
   "source": [
    "spark = SparkSession.builder.appName(\"Check_FIPEZAP\").getOrCreate()"
   ]
  },
  {
   "cell_type": "code",
   "execution_count": 4,
   "metadata": {},
   "outputs": [
    {
     "name": "stdout",
     "output_type": "stream",
     "text": [
      "+----------+-------+-----+---------+----------+\n",
      "|DT_REG_IC |NM_IC  |VL_IC|VL_VRC_IC|DT_REF    |\n",
      "+----------+-------+-----+---------+----------+\n",
      "|2008-01-01|FIPEZAP|41.81|NULL     |2024-06-02|\n",
      "|2008-02-01|FIPEZAP|42.07|0.61     |2024-06-02|\n",
      "|2008-03-01|FIPEZAP|42.51|1.05     |2024-06-02|\n",
      "|2008-04-01|FIPEZAP|43.09|1.37     |2024-06-02|\n",
      "|2008-05-01|FIPEZAP|43.67|1.34     |2024-06-02|\n",
      "|2008-06-01|FIPEZAP|44.31|1.48     |2024-06-02|\n",
      "|2008-07-01|FIPEZAP|44.91|1.35     |2024-06-02|\n",
      "|2008-08-01|FIPEZAP|45.38|1.04     |2024-06-02|\n",
      "|2008-09-01|FIPEZAP|45.84|1.02     |2024-06-02|\n",
      "|2008-10-01|FIPEZAP|46.37|1.16     |2024-06-02|\n",
      "|2008-11-01|FIPEZAP|47.11|1.6      |2024-06-02|\n",
      "|2008-12-01|FIPEZAP|47.94|1.77     |2024-06-02|\n",
      "|2009-01-01|FIPEZAP|48.6 |1.38     |2024-06-02|\n",
      "|2009-02-01|FIPEZAP|49.25|1.32     |2024-06-02|\n",
      "|2009-03-01|FIPEZAP|49.8 |1.12     |2024-06-02|\n",
      "|2009-04-01|FIPEZAP|50.54|1.5      |2024-06-02|\n",
      "|2009-05-01|FIPEZAP|51.28|1.46     |2024-06-02|\n",
      "|2009-06-01|FIPEZAP|52.09|1.58     |2024-06-02|\n",
      "|2009-07-01|FIPEZAP|53.01|1.77     |2024-06-02|\n",
      "|2009-08-01|FIPEZAP|53.98|1.82     |2024-06-02|\n",
      "+----------+-------+-----+---------+----------+\n",
      "only showing top 20 rows\n",
      "\n"
     ]
    }
   ],
   "source": [
    "\n",
    "df_fipezap = spark.read.option(\"delimiter\", \",\").option(\"header\", True).csv(\"dados_fipezap.csv\")\\\n",
    ".withColumn(\"DT_REG_IC\", F.lit(F.to_date(F.col(\"DT_REG_IC\"), \"yyyy-MM-dd\")))\\\n",
    ".withColumn(\"VL_IC\", F.round(F.col(\"VL_IC\"), 2))\\\n",
    ".withColumn(\"VL_VRC_IC\", F.round(F.col(\"VL_VRC_IC\"), 2))\\\n",
    ".withColumn(\"DT_REF\", F.lit(F.to_date(F.col(\"DT_REF\"), \"yyyy-MM-dd\")))\n",
    "\n",
    "df_fipezap = df_fipezap\\\n",
    ".withColumn(\"VL_VRC_IC\", F.when(F.col(\"VL_VRC_IC\").isNotNull(), F.col(\"VL_VRC_IC\")).otherwise(0.00))\\\n",
    ".withColumn(\"VL_IC\", F.col(\"VL_IC\").cast(\"float\"))\\\n",
    ".withColumn(\"VL_VRC_IC\", F.col(\"VL_VRC_IC\").cast(\"float\"))\n",
    "\n",
    "df_fipezap.show(truncate=False)"
   ]
  }
 ],
 "metadata": {
  "kernelspec": {
   "display_name": ".venv",
   "language": "python",
   "name": "python3"
  },
  "language_info": {
   "codemirror_mode": {
    "name": "ipython",
    "version": 3
   },
   "file_extension": ".py",
   "mimetype": "text/x-python",
   "name": "python",
   "nbconvert_exporter": "python",
   "pygments_lexer": "ipython3",
   "version": "3.11.2"
  }
 },
 "nbformat": 4,
 "nbformat_minor": 2
}
