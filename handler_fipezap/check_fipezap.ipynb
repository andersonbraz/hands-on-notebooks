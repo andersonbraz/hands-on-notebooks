{
 "cells": [
  {
   "cell_type": "code",
   "execution_count": 1,
   "metadata": {},
   "outputs": [],
   "source": [
    "from pyspark.sql import SparkSession\n",
    "from pyspark.sql import DataFrame\n",
    "from pyspark.sql import functions as F\n",
    "from functools import reduce"
   ]
  },
  {
   "cell_type": "code",
   "execution_count": 2,
   "metadata": {},
   "outputs": [
    {
     "name": "stderr",
     "output_type": "stream",
     "text": [
      "your 131072x1 screen size is bogus. expect trouble\n",
      "Setting default log level to \"WARN\".\n",
      "To adjust logging level use sc.setLogLevel(newLevel). For SparkR, use setLogLevel(newLevel).\n",
      "24/06/02 11:34:49 WARN NativeCodeLoader: Unable to load native-hadoop library for your platform... using builtin-java classes where applicable\n"
     ]
    }
   ],
   "source": [
    "spark = SparkSession.builder.appName(\"Check_FIPEZAP\").getOrCreate()"
   ]
  },
  {
   "cell_type": "code",
   "execution_count": 8,
   "metadata": {},
   "outputs": [
    {
     "name": "stdout",
     "output_type": "stream",
     "text": [
      "+----------+-------+------+---------+----------+\n",
      "|DT_REG_IC |NM_IC  |VL_IC |VL_VRC_IC|DT_REF    |\n",
      "+----------+-------+------+---------+----------+\n",
      "|2024-04-01|FIPEZAP|160.72|0.66     |2024-06-02|\n",
      "|2024-03-01|FIPEZAP|159.66|0.64     |2024-06-02|\n",
      "|2024-02-01|FIPEZAP|158.65|0.49     |2024-06-02|\n",
      "|2024-01-01|FIPEZAP|157.87|0.36     |2024-06-02|\n",
      "|2023-12-01|FIPEZAP|157.31|0.29     |2024-06-02|\n",
      "|2023-11-01|FIPEZAP|156.85|0.37     |2024-06-02|\n",
      "|2023-10-01|FIPEZAP|156.27|0.54     |2024-06-02|\n",
      "|2023-09-01|FIPEZAP|155.44|0.45     |2024-06-02|\n",
      "|2023-08-01|FIPEZAP|154.74|0.44     |2024-06-02|\n",
      "|2023-07-01|FIPEZAP|154.07|0.41     |2024-06-02|\n",
      "|2023-06-01|FIPEZAP|153.44|0.51     |2024-06-02|\n",
      "|2023-05-01|FIPEZAP|152.65|0.46     |2024-06-02|\n",
      "|2023-04-01|FIPEZAP|151.96|0.45     |2024-06-02|\n",
      "|2023-03-01|FIPEZAP|151.29|0.42     |2024-06-02|\n",
      "|2023-02-01|FIPEZAP|150.65|0.38     |2024-06-02|\n",
      "|2023-01-01|FIPEZAP|150.08|0.3      |2024-06-02|\n",
      "|2022-12-01|FIPEZAP|149.64|0.3      |2024-06-02|\n",
      "|2022-11-01|FIPEZAP|149.18|0.46     |2024-06-02|\n",
      "|2022-10-01|FIPEZAP|148.5 |0.59     |2024-06-02|\n",
      "|2022-09-01|FIPEZAP|147.63|0.6      |2024-06-02|\n",
      "+----------+-------+------+---------+----------+\n",
      "only showing top 20 rows\n",
      "\n"
     ]
    }
   ],
   "source": [
    "\n",
    "df_fipezap = spark.read.option(\"delimiter\", \",\").option(\"header\", True).csv(\"dados_fipezap.csv\")\\\n",
    ".withColumn(\"DT_REG_IC\", F.lit(F.to_date(F.col(\"DT_REG_IC\"), \"yyyy-MM-dd\")))\\\n",
    ".withColumn(\"VL_IC\", F.round(F.col(\"VL_IC\"), 2))\\\n",
    ".withColumn(\"VL_VRC_IC\", F.round(F.col(\"VL_VRC_IC\"), 2))\\\n",
    ".withColumn(\"DT_REF\", F.lit(F.to_date(F.col(\"DT_REF\"), \"yyyy-MM-dd\")))\n",
    "\n",
    "df_fipezap = df_fipezap\\\n",
    ".withColumn(\"VL_VRC_IC\", F.when(F.col(\"VL_VRC_IC\").isNotNull(), F.col(\"VL_VRC_IC\")).otherwise(0.00))\\\n",
    ".withColumn(\"VL_IC\", F.col(\"VL_IC\").cast(\"float\"))\\\n",
    ".withColumn(\"VL_VRC_IC\", F.col(\"VL_VRC_IC\").cast(\"float\"))\n",
    "\n",
    "df_fipezap.write.parquet(\"indices_mercado_externo.parquet\", mode=\"overwrite\")\n",
    "\n",
    "df_fipezap.orderBy(\"DT_REG_IC\", ascending=False).show(truncate=False)"
   ]
  },
  {
   "cell_type": "code",
   "execution_count": 9,
   "metadata": {},
   "outputs": [
    {
     "name": "stdout",
     "output_type": "stream",
     "text": [
      "root\n",
      " |-- DT_REG_IC: date (nullable = true)\n",
      " |-- NM_IC: string (nullable = true)\n",
      " |-- VL_IC: float (nullable = true)\n",
      " |-- VL_VRC_IC: float (nullable = true)\n",
      " |-- DT_REF: date (nullable = true)\n",
      "\n"
     ]
    }
   ],
   "source": [
    "df_fipezap.printSchema()"
   ]
  },
  {
   "cell_type": "code",
   "execution_count": 10,
   "metadata": {},
   "outputs": [],
   "source": [
    "df_csv = df_fipezap\n",
    "df_base = spark.read.parquet(\"indices_mercado_externo.parquet\")"
   ]
  },
  {
   "cell_type": "code",
   "execution_count": 11,
   "metadata": {},
   "outputs": [
    {
     "name": "stdout",
     "output_type": "stream",
     "text": [
      "root\n",
      " |-- DT_REG_IC: date (nullable = true)\n",
      " |-- NM_IC: string (nullable = true)\n",
      " |-- VL_IC: float (nullable = true)\n",
      " |-- VL_VRC_IC: float (nullable = true)\n",
      " |-- DT_REF: date (nullable = true)\n",
      "\n"
     ]
    }
   ],
   "source": [
    "df_base.printSchema()"
   ]
  }
 ],
 "metadata": {
  "kernelspec": {
   "display_name": ".venv",
   "language": "python",
   "name": "python3"
  },
  "language_info": {
   "codemirror_mode": {
    "name": "ipython",
    "version": 3
   },
   "file_extension": ".py",
   "mimetype": "text/x-python",
   "name": "python",
   "nbconvert_exporter": "python",
   "pygments_lexer": "ipython3",
   "version": "3.11.2"
  }
 },
 "nbformat": 4,
 "nbformat_minor": 2
}
