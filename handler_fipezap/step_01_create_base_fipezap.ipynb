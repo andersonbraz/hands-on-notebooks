{
 "cells": [
  {
   "cell_type": "code",
   "execution_count": 1,
   "metadata": {},
   "outputs": [],
   "source": [
    "from pyspark.sql import SparkSession\n",
    "from pyspark.sql import DataFrame\n",
    "from pyspark.sql import functions as F\n",
    "from functools import reduce"
   ]
  },
  {
   "cell_type": "code",
   "execution_count": 2,
   "metadata": {},
   "outputs": [
    {
     "name": "stderr",
     "output_type": "stream",
     "text": [
      "your 131072x1 screen size is bogus. expect trouble\n",
      "Setting default log level to \"WARN\".\n",
      "To adjust logging level use sc.setLogLevel(newLevel). For SparkR, use setLogLevel(newLevel).\n",
      "24/06/02 12:31:50 WARN NativeCodeLoader: Unable to load native-hadoop library for your platform... using builtin-java classes where applicable\n"
     ]
    }
   ],
   "source": [
    "spark = SparkSession.builder.appName(\"Create_FIPEZAP\").getOrCreate()"
   ]
  },
  {
   "cell_type": "code",
   "execution_count": 3,
   "metadata": {},
   "outputs": [
    {
     "name": "stderr",
     "output_type": "stream",
     "text": [
      "                                                                                \r"
     ]
    },
    {
     "name": "stdout",
     "output_type": "stream",
     "text": [
      "+----------+-------+------+---------+----------+\n",
      "|DT_REG_IC |NM_IC  |VL_IC |VL_VRC_IC|DT_REF    |\n",
      "+----------+-------+------+---------+----------+\n",
      "|2023-04-01|FIPEZAP|151.96|0.45     |2024-06-02|\n",
      "|2023-03-01|FIPEZAP|151.29|0.42     |2024-06-02|\n",
      "|2023-02-01|FIPEZAP|150.65|0.38     |2024-06-02|\n",
      "|2023-01-01|FIPEZAP|150.08|0.3      |2024-06-02|\n",
      "|2022-12-01|FIPEZAP|149.64|0.3      |2024-06-02|\n",
      "|2022-11-01|FIPEZAP|149.18|0.46     |2024-06-02|\n",
      "|2022-10-01|FIPEZAP|148.5 |0.59     |2024-06-02|\n",
      "|2022-09-01|FIPEZAP|147.63|0.6      |2024-06-02|\n",
      "|2022-08-01|FIPEZAP|146.75|0.6      |2024-06-02|\n",
      "|2022-07-01|FIPEZAP|145.88|0.52     |2024-06-02|\n",
      "|2022-06-01|FIPEZAP|145.13|0.47     |2024-06-02|\n",
      "|2022-05-01|FIPEZAP|144.46|0.41     |2024-06-02|\n",
      "|2022-04-01|FIPEZAP|143.87|0.48     |2024-06-02|\n",
      "|2022-03-01|FIPEZAP|143.18|0.55     |2024-06-02|\n",
      "|2022-02-01|FIPEZAP|142.4 |0.49     |2024-06-02|\n",
      "|2022-01-01|FIPEZAP|141.7 |0.53     |2024-06-02|\n",
      "|2021-12-01|FIPEZAP|140.96|0.48     |2024-06-02|\n",
      "|2021-11-01|FIPEZAP|140.28|0.53     |2024-06-02|\n",
      "|2021-10-01|FIPEZAP|139.54|0.43     |2024-06-02|\n",
      "|2021-09-01|FIPEZAP|138.95|0.43     |2024-06-02|\n",
      "+----------+-------+------+---------+----------+\n",
      "only showing top 20 rows\n",
      "\n"
     ]
    }
   ],
   "source": [
    "\n",
    "df_fipezap = spark.read.option(\"delimiter\", \",\").option(\"header\", True).csv(\"dados_fipezap.csv\")\\\n",
    ".withColumn(\"DT_REG_IC\", F.lit(F.to_date(F.col(\"DT_REG_IC\"), \"yyyy-MM-dd\")))\\\n",
    ".withColumn(\"VL_IC\", F.round(F.col(\"VL_IC\"), 2))\\\n",
    ".withColumn(\"VL_VRC_IC\", F.round(F.col(\"VL_VRC_IC\"), 2))\\\n",
    ".withColumn(\"DT_REF\", F.lit(F.to_date(F.col(\"DT_REF\"), \"yyyy-MM-dd\")))\n",
    "\n",
    "df_fipezap = df_fipezap\\\n",
    ".withColumn(\"VL_VRC_IC\", F.when(F.col(\"VL_VRC_IC\").isNotNull(), F.col(\"VL_VRC_IC\")).otherwise(0.00))\\\n",
    ".withColumn(\"VL_IC\", F.col(\"VL_IC\").cast(\"float\"))\\\n",
    ".withColumn(\"VL_VRC_IC\", F.col(\"VL_VRC_IC\").cast(\"float\"))\n",
    "\n",
    "df_fipezap.write.parquet(\"indices_mercado_externo.parquet\", mode=\"overwrite\")\n",
    "\n",
    "df_fipezap.orderBy(\"DT_REG_IC\", ascending=False).show(truncate=False)"
   ]
  },
  {
   "cell_type": "code",
   "execution_count": 4,
   "metadata": {},
   "outputs": [
    {
     "name": "stdout",
     "output_type": "stream",
     "text": [
      "root\n",
      " |-- DT_REG_IC: date (nullable = true)\n",
      " |-- NM_IC: string (nullable = true)\n",
      " |-- VL_IC: float (nullable = true)\n",
      " |-- VL_VRC_IC: float (nullable = true)\n",
      " |-- DT_REF: date (nullable = true)\n",
      "\n"
     ]
    }
   ],
   "source": [
    "df_fipezap.printSchema()"
   ]
  },
  {
   "cell_type": "code",
   "execution_count": 5,
   "metadata": {},
   "outputs": [],
   "source": [
    "df_csv = df_fipezap\n",
    "df_base = spark.read.parquet(\"indices_mercado_externo.parquet\")"
   ]
  },
  {
   "cell_type": "code",
   "execution_count": 6,
   "metadata": {},
   "outputs": [
    {
     "name": "stdout",
     "output_type": "stream",
     "text": [
      "root\n",
      " |-- DT_REG_IC: date (nullable = true)\n",
      " |-- NM_IC: string (nullable = true)\n",
      " |-- VL_IC: float (nullable = true)\n",
      " |-- VL_VRC_IC: float (nullable = true)\n",
      " |-- DT_REF: date (nullable = true)\n",
      "\n"
     ]
    }
   ],
   "source": [
    "df_base.printSchema()"
   ]
  },
  {
   "cell_type": "code",
   "execution_count": 7,
   "metadata": {},
   "outputs": [
    {
     "name": "stdout",
     "output_type": "stream",
     "text": [
      "+----------+-------+------+---------+----------+\n",
      "|DT_REG_IC |NM_IC  |VL_IC |VL_VRC_IC|DT_REF    |\n",
      "+----------+-------+------+---------+----------+\n",
      "|2023-04-01|FIPEZAP|151.96|0.45     |2024-06-02|\n",
      "|2023-03-01|FIPEZAP|151.29|0.42     |2024-06-02|\n",
      "|2023-02-01|FIPEZAP|150.65|0.38     |2024-06-02|\n",
      "|2023-01-01|FIPEZAP|150.08|0.3      |2024-06-02|\n",
      "|2022-12-01|FIPEZAP|149.64|0.3      |2024-06-02|\n",
      "|2022-11-01|FIPEZAP|149.18|0.46     |2024-06-02|\n",
      "|2022-10-01|FIPEZAP|148.5 |0.59     |2024-06-02|\n",
      "|2022-09-01|FIPEZAP|147.63|0.6      |2024-06-02|\n",
      "|2022-08-01|FIPEZAP|146.75|0.6      |2024-06-02|\n",
      "|2022-07-01|FIPEZAP|145.88|0.52     |2024-06-02|\n",
      "|2022-06-01|FIPEZAP|145.13|0.47     |2024-06-02|\n",
      "|2022-05-01|FIPEZAP|144.46|0.41     |2024-06-02|\n",
      "|2022-04-01|FIPEZAP|143.87|0.48     |2024-06-02|\n",
      "|2022-03-01|FIPEZAP|143.18|0.55     |2024-06-02|\n",
      "|2022-02-01|FIPEZAP|142.4 |0.49     |2024-06-02|\n",
      "|2022-01-01|FIPEZAP|141.7 |0.53     |2024-06-02|\n",
      "|2021-12-01|FIPEZAP|140.96|0.48     |2024-06-02|\n",
      "|2021-11-01|FIPEZAP|140.28|0.53     |2024-06-02|\n",
      "|2021-10-01|FIPEZAP|139.54|0.43     |2024-06-02|\n",
      "|2021-09-01|FIPEZAP|138.95|0.43     |2024-06-02|\n",
      "+----------+-------+------+---------+----------+\n",
      "only showing top 20 rows\n",
      "\n"
     ]
    }
   ],
   "source": [
    "df_base.orderBy(\"DT_REG_IC\", ascending=False).show(truncate=False)"
   ]
  }
 ],
 "metadata": {
  "kernelspec": {
   "display_name": ".venv",
   "language": "python",
   "name": "python3"
  },
  "language_info": {
   "codemirror_mode": {
    "name": "ipython",
    "version": 3
   },
   "file_extension": ".py",
   "mimetype": "text/x-python",
   "name": "python",
   "nbconvert_exporter": "python",
   "pygments_lexer": "ipython3",
   "version": "3.11.2"
  }
 },
 "nbformat": 4,
 "nbformat_minor": 2
}
