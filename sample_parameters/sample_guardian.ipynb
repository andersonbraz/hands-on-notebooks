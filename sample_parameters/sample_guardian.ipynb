{
 "cells": [
  {
   "cell_type": "code",
   "execution_count": 11,
   "metadata": {},
   "outputs": [
    {
     "data": {
      "text/html": [
       "<style>pre { white-space: pre !important; }</style>"
      ],
      "text/plain": [
       "<IPython.core.display.HTML object>"
      ]
     },
     "metadata": {},
     "output_type": "display_data"
    }
   ],
   "source": [
    "from datetime import datetime\n",
    "\n",
    "from pyspark.sql import SparkSession\n",
    "from pyspark.sql import functions as F\n",
    "\n",
    "from IPython.core.display import HTML                                   #Função renderização html no Jupyter\n",
    "display(HTML(\"<style>pre { white-space: pre !important; }</style>\"))    #Função renderização html no Jupyter"
   ]
  },
  {
   "cell_type": "code",
   "execution_count": 12,
   "metadata": {},
   "outputs": [],
   "source": [
    "spark = SparkSession.builder.appName(\"MeuApp\").getOrCreate()"
   ]
  },
  {
   "cell_type": "code",
   "execution_count": 13,
   "metadata": {},
   "outputs": [],
   "source": [
    "TODAY = datetime.now().strftime(\"%Y-%m-%d\")"
   ]
  },
  {
   "cell_type": "code",
   "execution_count": 20,
   "metadata": {},
   "outputs": [],
   "source": [
    "def uppercase_columns(df):\n",
    "    for col in df.columns:\n",
    "        df = df.withColumnRenamed(col, col.upper())\n",
    "    return df\n",
    "\n",
    "def reg_news(df_new, df_old):\n",
    "\n",
    "    df_reg = df_new.exceptAll(df_old)\n",
    "\n",
    "    return df_reg\n",
    "\n",
    "    return df_reg"
   ]
  },
  {
   "cell_type": "code",
   "execution_count": 15,
   "metadata": {},
   "outputs": [
    {
     "name": "stdout",
     "output_type": "stream",
     "text": [
      "+---+----------+----------+------------+-----------+----------+\n",
      "|ID |NAME_PARAM|PARAM_TYPE|PARAM_TARGET|PARAM_STDEV|DATE_REF  |\n",
      "+---+----------+----------+------------+-----------+----------+\n",
      "|1  |ALPHA     |101       |90          |1.0        |2024-06-12|\n",
      "|2  |BRAVO     |201       |80          |1.0        |2024-06-12|\n",
      "|3  |CHARLIE   |301       |90          |1.0        |2024-06-12|\n",
      "|4  |DELTA     |401       |80          |1.0        |2024-06-12|\n",
      "|5  |ECHO      |501       |90          |1.0        |2024-06-12|\n",
      "|6  |FHOX      |601       |90          |1.0        |2024-06-12|\n",
      "+---+----------+----------+------------+-----------+----------+\n",
      "\n"
     ]
    }
   ],
   "source": [
    "df_csv = spark.read.option(\"delimiter\", \",\").option(\"header\", True).csv(\"files/data_parameter.csv\")\n",
    "df_csv = uppercase_columns(df_csv)\n",
    "\n",
    "df_csv = df_csv\\\n",
    ".withColumn(\"NAME_PARAM\", F.upper(F.col(\"NAME_PARAM\")))\\\n",
    ".withColumn(\"PARAM_TYPE\", F.col(\"PARAM_TYPE\").cast(\"integer\"))\\\n",
    ".withColumn(\"PARAM_TARGET\", F.col(\"PARAM_TARGET\").cast(\"integer\"))\\\n",
    ".withColumn(\"PARAM_STDEV\", F.col(\"PARAM_STDEV\").cast(\"float\"))\\\n",
    ".withColumn(\"DATE_REF\", F.to_date(F.lit(f\"{TODAY}\"),\"yyyy-MM-dd\").cast(\"date\"))\\\n",
    "\n",
    "df_csv.show(truncate=False)"
   ]
  },
  {
   "cell_type": "code",
   "execution_count": 16,
   "metadata": {},
   "outputs": [
    {
     "name": "stdout",
     "output_type": "stream",
     "text": [
      "+---+----------+----------+------------+-----------+----------+\n",
      "|ID |NAME_PARAM|PARAM_TYPE|PARAM_TARGET|PARAM_STDEV|DATE_REF  |\n",
      "+---+----------+----------+------------+-----------+----------+\n",
      "|1  |ALPHA     |101       |90          |1.0        |2024-06-12|\n",
      "|2  |BRAVO     |201       |80          |1.0        |2024-06-12|\n",
      "|3  |CHARLIE   |301       |90          |1.0        |2024-06-12|\n",
      "+---+----------+----------+------------+-----------+----------+\n",
      "\n"
     ]
    }
   ],
   "source": [
    "df_base = spark.read.parquet(\"spark-warehouse/parameters\")\n",
    "df_base.show(truncate=False)"
   ]
  },
  {
   "cell_type": "code",
   "execution_count": 17,
   "metadata": {},
   "outputs": [],
   "source": [
    "df_new = df_csv\n",
    "df_new = df_new.drop(\"DATE_REF\")\n",
    "df_old = df_base\n",
    "df_old = df_old.drop(\"DATE_REF\")"
   ]
  },
  {
   "cell_type": "code",
   "execution_count": 18,
   "metadata": {},
   "outputs": [
    {
     "name": "stdout",
     "output_type": "stream",
     "text": [
      "+---+----------+----------+------------+-----------+\n",
      "|ID |NAME_PARAM|PARAM_TYPE|PARAM_TARGET|PARAM_STDEV|\n",
      "+---+----------+----------+------------+-----------+\n",
      "|1  |ALPHA     |101       |90          |1.0        |\n",
      "|2  |BRAVO     |201       |80          |1.0        |\n",
      "|3  |CHARLIE   |301       |90          |1.0        |\n",
      "|4  |DELTA     |401       |80          |1.0        |\n",
      "|5  |ECHO      |501       |90          |1.0        |\n",
      "|6  |FHOX      |601       |90          |1.0        |\n",
      "+---+----------+----------+------------+-----------+\n",
      "\n",
      "+---+----------+----------+------------+-----------+\n",
      "|ID |NAME_PARAM|PARAM_TYPE|PARAM_TARGET|PARAM_STDEV|\n",
      "+---+----------+----------+------------+-----------+\n",
      "|1  |ALPHA     |101       |90          |1.0        |\n",
      "|2  |BRAVO     |201       |80          |1.0        |\n",
      "|3  |CHARLIE   |301       |90          |1.0        |\n",
      "+---+----------+----------+------------+-----------+\n",
      "\n"
     ]
    }
   ],
   "source": [
    "df_new.show(truncate=False)\n",
    "df_old.show(truncate=False)"
   ]
  },
  {
   "cell_type": "code",
   "execution_count": 21,
   "metadata": {},
   "outputs": [
    {
     "name": "stdout",
     "output_type": "stream",
     "text": [
      "+---+----------+----------+------------+-----------+\n",
      "|ID |NAME_PARAM|PARAM_TYPE|PARAM_TARGET|PARAM_STDEV|\n",
      "+---+----------+----------+------------+-----------+\n",
      "|4  |DELTA     |401       |80          |1.0        |\n",
      "|5  |ECHO      |501       |90          |1.0        |\n",
      "|6  |FHOX      |601       |90          |1.0        |\n",
      "+---+----------+----------+------------+-----------+\n",
      "\n"
     ]
    }
   ],
   "source": [
    "df = reg_news(df_new, df_old)\n",
    "df.show(truncate=False)"
   ]
  },
  {
   "cell_type": "code",
   "execution_count": null,
   "metadata": {},
   "outputs": [],
   "source": [
    "# df_params.write.format(\"parquet\")\\\n",
    "#     .partitionBy(\"DATE_REF\")\\\n",
    "#     .mode(\"overwrite\")\\\n",
    "#     .saveAsTable(\"parameters\")"
   ]
  }
 ],
 "metadata": {
  "kernelspec": {
   "display_name": ".venv",
   "language": "python",
   "name": "python3"
  },
  "language_info": {
   "codemirror_mode": {
    "name": "ipython",
    "version": 3
   },
   "file_extension": ".py",
   "mimetype": "text/x-python",
   "name": "python",
   "nbconvert_exporter": "python",
   "pygments_lexer": "ipython3",
   "version": "3.11.2"
  }
 },
 "nbformat": 4,
 "nbformat_minor": 2
}
