{
 "cells": [
  {
   "cell_type": "code",
   "execution_count": 1,
   "metadata": {},
   "outputs": [],
   "source": [
    "from pyspark.sql import SparkSession\n",
    "from pyspark.sql import DataFrame\n",
    "from pyspark.sql import functions as F\n",
    "from functools import reduce\n",
    "from datetime import datetime"
   ]
  },
  {
   "cell_type": "code",
   "execution_count": 2,
   "metadata": {},
   "outputs": [
    {
     "name": "stdout",
     "output_type": "stream",
     "text": [
      "Data Atual: 2024-06-02\n"
     ]
    }
   ],
   "source": [
    "data_atual = datetime.now().strftime(\"%Y-%m-%d\")\n",
    "print(\"Data Atual:\", data_atual)"
   ]
  },
  {
   "cell_type": "code",
   "execution_count": 3,
   "metadata": {},
   "outputs": [
    {
     "name": "stderr",
     "output_type": "stream",
     "text": [
      "your 131072x1 screen size is bogus. expect trouble\n",
      "Setting default log level to \"WARN\".\n",
      "To adjust logging level use sc.setLogLevel(newLevel). For SparkR, use setLogLevel(newLevel).\n",
      "24/06/02 19:52:09 WARN NativeCodeLoader: Unable to load native-hadoop library for your platform... using builtin-java classes where applicable\n",
      "24/06/02 19:52:10 WARN Utils: Service 'SparkUI' could not bind on port 4040. Attempting port 4041.\n"
     ]
    }
   ],
   "source": [
    "spark = SparkSession.builder.appName(\"App_Handler_Join\").getOrCreate()"
   ]
  },
  {
   "cell_type": "code",
   "execution_count": 4,
   "metadata": {},
   "outputs": [
    {
     "name": "stdout",
     "output_type": "stream",
     "text": [
      "+----------+--------+------+---------------+-----+\n",
      "|id_cliente|nome    |genero|data_nascimento|idade|\n",
      "+----------+--------+------+---------------+-----+\n",
      "|1         |Anderson|M     |1980-11-06     |43   |\n",
      "|2         |Fernanda|F     |1979-04-12     |45   |\n",
      "|3         |Gustavo |M     |2019-02-20     |5    |\n",
      "|4         |João    |M     |2013-03-01     |11   |\n",
      "+----------+--------+------+---------------+-----+\n",
      "\n"
     ]
    }
   ],
   "source": [
    "df_clientes = spark.read.option(\"delimiter\", \",\").option(\"header\", True).csv(\"clientes.csv\")\\\n",
    ".withColumn(\"id_cliente\", F.col(\"id_cliente\").cast(\"integer\"))\\\n",
    ".withColumn(\"nome\", F.col(\"nome\").cast(\"string\"))\\\n",
    ".withColumn(\"genero\", F.col(\"genero\").cast(\"string\"))\\\n",
    ".withColumn(\"data_nascimento\", F.col(\"data_nascimento\").cast(\"date\"))\\\n",
    ".withColumn(\"idade\", (F.months_between(F.current_date(), F.col(\"data_nascimento\"))/12).cast(\"integer\"))\\\n",
    "\n",
    "df_clientes.show(truncate=False)"
   ]
  },
  {
   "cell_type": "code",
   "execution_count": 5,
   "metadata": {},
   "outputs": [
    {
     "name": "stdout",
     "output_type": "stream",
     "text": [
      "+----------+-----------------------+-----+\n",
      "|id_produto|produto                |preco|\n",
      "+----------+-----------------------+-----+\n",
      "|1         |Suco de Laranja 500ml  |4.99 |\n",
      "|2         |Pão de Queijo          |4.99 |\n",
      "|3         |Batata Frita           |15.99|\n",
      "|4         |Cerveja Heineken 600ml |13.99|\n",
      "|5         |Garrafa de Vinho Merlot|89.99|\n",
      "|6         |Garrafa de Vinho Verde |89.99|\n",
      "|7         |Garrafa de Vinho Rosê  |89.99|\n",
      "|8         |Filé com Fritas        |69.99|\n",
      "|9         |Prato Kids             |19.99|\n",
      "+----------+-----------------------+-----+\n",
      "\n"
     ]
    }
   ],
   "source": [
    "df_produtos = spark.read.option(\"delimiter\", \",\").option(\"header\", True).csv(\"produtos.csv\")\\\n",
    ".withColumn(\"id_produto\", F.col(\"id_produto\").cast(\"integer\"))\\\n",
    ".withColumn(\"produto\", F.col(\"produto\").cast(\"string\"))\\\n",
    ".withColumn(\"preco\", F.col(\"preco\").cast(\"float\"))\\\n",
    "\n",
    "df_produtos.show(truncate=False)"
   ]
  },
  {
   "cell_type": "code",
   "execution_count": 6,
   "metadata": {},
   "outputs": [
    {
     "name": "stdout",
     "output_type": "stream",
     "text": [
      "+---------+----------+----------+\n",
      "|id_pedido|id_cliente|id_produto|\n",
      "+---------+----------+----------+\n",
      "|1        |1         |4         |\n",
      "|2        |2         |5         |\n",
      "|3        |4         |1         |\n",
      "|4        |4         |3         |\n",
      "|5        |4         |8         |\n",
      "|6        |1         |4         |\n",
      "|7        |3         |2         |\n",
      "|8        |2         |5         |\n",
      "|9        |2         |6         |\n",
      "|10       |3         |1         |\n",
      "|11       |4         |2         |\n",
      "|12       |3         |8         |\n",
      "|13       |3         |1         |\n",
      "+---------+----------+----------+\n",
      "\n"
     ]
    }
   ],
   "source": [
    "df_pedidos = spark.read.option(\"delimiter\", \",\").option(\"header\", True).csv(\"pedidos.csv\")\\\n",
    ".withColumn(\"id_pedido\", F.col(\"id_pedido\").cast(\"integer\"))\\\n",
    ".withColumn(\"id_cliente\", F.col(\"id_cliente\").cast(\"integer\"))\\\n",
    ".withColumn(\"id_produto\", F.col(\"id_produto\").cast(\"integer\"))\\\n",
    "\n",
    "df_pedidos.show(truncate=False)"
   ]
  },
  {
   "cell_type": "code",
   "execution_count": 7,
   "metadata": {},
   "outputs": [
    {
     "name": "stdout",
     "output_type": "stream",
     "text": [
      "+---------+--------+-----------------------+-----+\n",
      "|id_pedido|nome    |produto                |preco|\n",
      "+---------+--------+-----------------------+-----+\n",
      "|1        |Anderson|Cerveja Heineken 600ml |13.99|\n",
      "|2        |Fernanda|Garrafa de Vinho Merlot|89.99|\n",
      "|3        |João    |Suco de Laranja 500ml  |4.99 |\n",
      "|4        |João    |Batata Frita           |15.99|\n",
      "|5        |João    |Filé com Fritas        |69.99|\n",
      "|6        |Anderson|Cerveja Heineken 600ml |13.99|\n",
      "|7        |Gustavo |Pão de Queijo          |4.99 |\n",
      "|8        |Fernanda|Garrafa de Vinho Merlot|89.99|\n",
      "|9        |Fernanda|Garrafa de Vinho Verde |89.99|\n",
      "|10       |Gustavo |Suco de Laranja 500ml  |4.99 |\n",
      "|11       |João    |Pão de Queijo          |4.99 |\n",
      "|12       |Gustavo |Filé com Fritas        |69.99|\n",
      "|13       |Gustavo |Suco de Laranja 500ml  |4.99 |\n",
      "+---------+--------+-----------------------+-----+\n",
      "\n"
     ]
    }
   ],
   "source": [
    "df_ticket = df_pedidos.alias(\"t1\")\\\n",
    ".join(df_clientes.alias(\"t2\"),(F.col(\"t1.id_cliente\") == F.col(\"t2.id_cliente\")), \"left\")\\\n",
    ".join(df_produtos.alias(\"t3\"),(F.col(\"t1.id_produto\") == F.col(\"t3.id_produto\")), \"left\")\\\n",
    ".select(\"t1.id_pedido\", \"t2.nome\", \"t3.produto\", \"t3.preco\")\\\n",
    "\n",
    "df_ticket.show(truncate=False)"
   ]
  }
 ],
 "metadata": {
  "kernelspec": {
   "display_name": ".venv",
   "language": "python",
   "name": "python3"
  },
  "language_info": {
   "codemirror_mode": {
    "name": "ipython",
    "version": 3
   },
   "file_extension": ".py",
   "mimetype": "text/x-python",
   "name": "python",
   "nbconvert_exporter": "python",
   "pygments_lexer": "ipython3",
   "version": "3.11.2"
  }
 },
 "nbformat": 4,
 "nbformat_minor": 2
}
