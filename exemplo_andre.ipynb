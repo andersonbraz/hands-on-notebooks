{
  "nbformat": 4,
  "nbformat_minor": 0,
  "metadata": {
    "colab": {
      "provenance": [],
      "authorship_tag": "ABX9TyNHB94Jsxc4rZp4qWwnWptl",
      "include_colab_link": true
    },
    "kernelspec": {
      "name": "python3",
      "display_name": "Python 3"
    },
    "language_info": {
      "name": "python"
    }
  },
  "cells": [
    {
      "cell_type": "markdown",
      "metadata": {
        "id": "view-in-github",
        "colab_type": "text"
      },
      "source": [
        "<a href=\"https://colab.research.google.com/github/andersonbraz/hands-on-notebooks/blob/main/exemplo_andre.ipynb\" target=\"_parent\"><img src=\"https://colab.research.google.com/assets/colab-badge.svg\" alt=\"Open In Colab\"/></a>"
      ]
    },
    {
      "cell_type": "code",
      "execution_count": 1,
      "metadata": {
        "id": "kJ81KIUjmgxu"
      },
      "outputs": [],
      "source": [
        "# !pip install pyspark\n",
        "# !pip install Faker\n"
      ]
    },
    {
      "cell_type": "code",
      "source": [
        "from pyspark.sql import SparkSession\n",
        "from pyspark.sql import functions as F\n",
        "from pyspark.sql import types as T\n",
        "from faker import Faker\n",
        "import random"
      ],
      "metadata": {
        "id": "JUOCcqgco0RG"
      },
      "execution_count": 2,
      "outputs": []
    },
    {
      "cell_type": "code",
      "source": [
        "\n",
        "spark = SparkSession.builder \\\n",
        "    .appName(\"MySparkSession\") \\\n",
        "    .getOrCreate()\n",
        "\n",
        "spark.version\n"
      ],
      "metadata": {
        "colab": {
          "base_uri": "https://localhost:8080/",
          "height": 35
        },
        "id": "aTg96HuwnJlO",
        "outputId": "475d072a-0ae2-4f4c-e674-83c5f15de16d"
      },
      "execution_count": 3,
      "outputs": [
        {
          "output_type": "execute_result",
          "data": {
            "text/plain": [
              "'3.5.3'"
            ],
            "application/vnd.google.colaboratory.intrinsic+json": {
              "type": "string"
            }
          },
          "metadata": {},
          "execution_count": 3
        }
      ]
    },
    {
      "cell_type": "markdown",
      "source": [
        "# Criar uma base Faker para chamar de minha"
      ],
      "metadata": {
        "id": "24Qk3zoHxo4W"
      }
    },
    {
      "cell_type": "code",
      "source": [
        "\n",
        "# fake = Faker(\"pt-BR\")\n",
        "\n",
        "# # Define the schema for the DataFrame\n",
        "# schema = T.StructType([\n",
        "#     T.StructField(\"Id\", T.StringType(), True),\n",
        "#     T.StructField(\"Name\", T.StringType(), True),\n",
        "#     T.StructField(\"Email\", T.StringType(), True),\n",
        "#     T.StructField(\"Job\", T.StringType(), True),\n",
        "#     T.StructField(\"Age\", T.IntegerType(), True)\n",
        "# ])\n",
        "\n",
        "# # Create an empty list to store the data\n",
        "# data = []\n",
        "\n",
        "# # Generate 1000 fake data records\n",
        "# for _ in range(10):\n",
        "\n",
        "#     data.append([\n",
        "#         fake.md5(),\n",
        "#         fake.name(),\n",
        "#         fake.email(),\n",
        "#         fake.job(),\n",
        "#         random.randint(18, 65)  # Random age between 18 and 65\n",
        "#     ])\n",
        "\n",
        "# df_base = spark.createDataFrame(data, schema=schema)\n",
        "\n",
        "# df_base.coalesce(1).write.mode(\"overwrite\").csv(\"base.csv\", header=True)\n",
        "# df_base.show(truncate=False, n=100)"
      ],
      "metadata": {
        "id": "3iUGyZKRnjuY"
      },
      "execution_count": 4,
      "outputs": []
    },
    {
      "cell_type": "markdown",
      "source": [
        "## Usando a minha base Faker\n",
        "\n"
      ],
      "metadata": {
        "id": "j89-spjgxyTK"
      }
    },
    {
      "cell_type": "code",
      "source": [
        "df_base = spark.read.csv(\"base.csv\", header=True, inferSchema=True)\n",
        "df_base.show(truncate=False)"
      ],
      "metadata": {
        "colab": {
          "base_uri": "https://localhost:8080/"
        },
        "id": "j-4VftBUx7pt",
        "outputId": "46943169-8200-4bce-8896-7c0ec5e791d6"
      },
      "execution_count": 5,
      "outputs": [
        {
          "output_type": "stream",
          "name": "stdout",
          "text": [
            "+--------------------------------+--------------------+--------------------------------+------------------------------+---+\n",
            "|Id                              |Name                |Email                           |Job                           |Age|\n",
            "+--------------------------------+--------------------+--------------------------------+------------------------------+---+\n",
            "|65e90ba3325f7fe6dfb2d1c8234892ba|Maria Sophia Ramos  |emanuellymarques@example.net    |Engenheiro industrial         |18 |\n",
            "|a6cc5822515dbee544868a42a915e091|Maria Monteiro      |umontenegro@example.com         |Regente                       |39 |\n",
            "|6d2153b3db4b91b04f043f26e62fe785|Dr. Ravi Casa Grande|lopesbrenda@example.com         |Profissional de hotelaria     |35 |\n",
            "|0c617e69c96a67f8d950b5623cff7ba9|Ana Cecília Macedo  |rezendelivia@example.com        |Instalador de linha telefônica|33 |\n",
            "|84be0e832afb9d098f8d3f03c7243efe|Elisa Novaes        |gael-henrique40@example.net     |Torreiro/Torrista             |33 |\n",
            "|acba679ad24b636dde51d56a7c2fe931|Olívia Pimenta      |dvieira@example.com             |Vendedor                      |37 |\n",
            "|7b3d3fc24c722f48b96eb6e4c1ae8e52|Rodrigo Abreu       |joao-pedro97@example.com        |Pecuarista                    |56 |\n",
            "|8deca020b8e7995c81ecf52a27373fb3|Helena Barbosa      |enzo-gabrieloliveira@example.org|Chaveiro                      |64 |\n",
            "|d5bf5b20ee6919643717e3c9cd73193b|Guilherme Ribeiro   |hbarros@example.org             |Perito criminal               |28 |\n",
            "|854edcc776f8d8cc040b93f0399c82b9|Allana Melo         |isantos@example.net             |Baterista                     |25 |\n",
            "+--------------------------------+--------------------+--------------------------------+------------------------------+---+\n",
            "\n"
          ]
        }
      ]
    },
    {
      "cell_type": "code",
      "source": [
        "\n",
        "df_raw = spark.read.csv(\"raw.csv\", header=True, inferSchema=True)\n",
        "\n",
        "# df_raw = df_raw.select(\\\n",
        "#     F.trim(F.col(\"Id\")).alias(\"Id\"),\\\n",
        "#     F.trim(F.col(\"Name\")).alias(\"Name\"),\\\n",
        "#     F.trim(F.col(\"Email\")).alias(\"Email\"),\\\n",
        "#     F.trim(F.col(\"Job\")).alias(\"Job\"),\\\n",
        "# )\n",
        "\n",
        "df_raw.show(truncate=False)"
      ],
      "metadata": {
        "colab": {
          "base_uri": "https://localhost:8080/"
        },
        "id": "kFX4Y2deuLdc",
        "outputId": "a58b059a-50c2-4de8-af4f-f5b4de536856"
      },
      "execution_count": 7,
      "outputs": [
        {
          "output_type": "stream",
          "name": "stdout",
          "text": [
            "+--------------------------------+\n",
            "|Id                              |\n",
            "+--------------------------------+\n",
            "|65e90ba3325f7fe6dfb2d1c8234892ba|\n",
            "|a6cc5822515dbee544868a42a915e091|\n",
            "|6d2153b3db4b91b04f043f26e62fe785|\n",
            "|0c617e69c96a67f8d950b5623cff7ba9|\n",
            "|84be0e832afb9d098f8d3f03c7243efe|\n",
            "|acba679ad24b636dde51d56a7c2fe931|\n",
            "|7b3d3fc24c722f48b96eb6e4c1ae8e52|\n",
            "|8deca020b8e7995c81ecf52a27373fb3|\n",
            "|d5bf5b20ee6919643717e3c9cd73193b|\n",
            "|854edcc776f8d8cc040b93f0399c82b9|\n",
            "|acba679ad24b636dde51d56a7c2fe932|\n",
            "|7b3d3fc24c722f48b96eb6e4c1ae8e53|\n",
            "|6d2153b3db4b91b04f043f26e62fe786|\n",
            "+--------------------------------+\n",
            "\n"
          ]
        }
      ]
    },
    {
      "cell_type": "code",
      "source": [
        "\n",
        "df_result = df_raw.join(df_base, on=\"Id\", how=\"left_anti\")\n",
        "df_result.show(truncate=False)"
      ],
      "metadata": {
        "colab": {
          "base_uri": "https://localhost:8080/"
        },
        "id": "_99hvd71vIkD",
        "outputId": "bb49a107-48d3-4665-b33c-e4d59ba09ef9"
      },
      "execution_count": 8,
      "outputs": [
        {
          "output_type": "stream",
          "name": "stdout",
          "text": [
            "+--------------------------------+\n",
            "|Id                              |\n",
            "+--------------------------------+\n",
            "|acba679ad24b636dde51d56a7c2fe932|\n",
            "|7b3d3fc24c722f48b96eb6e4c1ae8e53|\n",
            "|6d2153b3db4b91b04f043f26e62fe786|\n",
            "+--------------------------------+\n",
            "\n"
          ]
        }
      ]
    },
    {
      "cell_type": "code",
      "source": [
        "# Remember to stop the SparkSession when you are done\n",
        "# spark.stop()"
      ],
      "metadata": {
        "id": "v1oZkXk8o7K6"
      },
      "execution_count": null,
      "outputs": []
    }
  ]
}