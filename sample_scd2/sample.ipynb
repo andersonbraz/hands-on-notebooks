{
 "cells": [
  {
   "cell_type": "code",
   "execution_count": 1,
   "metadata": {},
   "outputs": [
    {
     "data": {
      "text/html": [
       "<style>pre { white-space: pre !important; }</style>"
      ],
      "text/plain": [
       "<IPython.core.display.HTML object>"
      ]
     },
     "metadata": {},
     "output_type": "display_data"
    }
   ],
   "source": [
    "from datetime import datetime\n",
    "\n",
    "from pyspark.sql import SparkSession\n",
    "from pyspark.sql import functions as F\n",
    "\n",
    "from IPython.core.display import HTML                                   #Função renderização html no Jupyter\n",
    "display(HTML(\"<style>pre { white-space: pre !important; }</style>\"))    #Função renderização html no Jupyter"
   ]
  },
  {
   "cell_type": "code",
   "execution_count": 2,
   "metadata": {},
   "outputs": [
    {
     "name": "stderr",
     "output_type": "stream",
     "text": [
      "your 131072x1 screen size is bogus. expect trouble\n",
      "Setting default log level to \"WARN\".\n",
      "To adjust logging level use sc.setLogLevel(newLevel). For SparkR, use setLogLevel(newLevel).\n",
      "24/09/03 15:32:37 WARN NativeCodeLoader: Unable to load native-hadoop library for your platform... using builtin-java classes where applicable\n"
     ]
    }
   ],
   "source": [
    "spark = SparkSession.builder.appName(\"Examples_Spark\").getOrCreate()"
   ]
  },
  {
   "cell_type": "code",
   "execution_count": 3,
   "metadata": {},
   "outputs": [],
   "source": [
    "schema_other = T.StructType()\\\n",
    ".add(\"ID\", T.IntegerType(), True)\\\n",
    ".add(\"INFO\", T.StringType(), True)\\\n",
    ".add(\"COD_A\", T.IntegerType(), True)\\\n",
    ".add(\"COD_B\", T.IntegerType(), True)\\\n",
    ".add(\"COD_C\", T.IntegerType(), True)\\\n",
    ".add(\"DT_REF\", T.DateType(), True)\\\n",
    "\n",
    "data_other = [\n",
    "(1, \"ALFA\", 10, 36, 49, datetime.strptime(\"2024-01-01\", \"%Y-%m-%d\").date()),\n",
    "(1, \"ALFA\", 10, 28, 49, datetime.strptime(\"2024-01-01\", \"%Y-%m-%d\").date()),\n",
    "(1, \"ALFA\", 10, 49, 36, datetime.strptime(\"2024-01-01\", \"%Y-%m-%d\").date()),\n",
    "(1, \"ALFA\", 20, 73, 49, datetime.strptime(\"2024-08-01\", \"%Y-%m-%d\").date()),\n",
    "(1, \"ALFA\", 20, 39, 50, datetime.strptime(\"2024-08-01\", \"%Y-%m-%d\").date()),\n",
    "(2, \"BETA\", 70, 39, 50, datetime.strptime(\"2024-03-01\", \"%Y-%m-%d\").date()),\n",
    "(2, \"BETA\", 70, 39, 50, datetime.strptime(\"2024-03-01\", \"%Y-%m-%d\").date()),\n",
    "(2, \"BETA\", 80, 39, 50, datetime.strptime(\"2024-10-01\", \"%Y-%m-%d\").date()),\n",
    "(2, \"BETA\", 80, 39, 50, datetime.strptime(\"2024-10-01\", \"%Y-%m-%d\").date()),\n",
    "(2, \"BETA\", 80, 39, 50, datetime.strptime(\"2024-10-01\", \"%Y-%m-%d\").date()),\n",
    "]\n",
    "\n",
    "df_other = spark.createDataFrame(data=data_other, schema=schema_other)\n",
    "df_other.show()"
   ]
  }
 ],
 "metadata": {
  "kernelspec": {
   "display_name": ".venv",
   "language": "python",
   "name": "python3"
  },
  "language_info": {
   "codemirror_mode": {
    "name": "ipython",
    "version": 3
   },
   "file_extension": ".py",
   "mimetype": "text/x-python",
   "name": "python",
   "nbconvert_exporter": "python",
   "pygments_lexer": "ipython3",
   "version": "3.11.2"
  }
 },
 "nbformat": 4,
 "nbformat_minor": 2
}
