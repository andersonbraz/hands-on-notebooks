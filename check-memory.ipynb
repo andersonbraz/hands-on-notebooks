{
  "cells": [
    {
      "cell_type": "markdown",
      "metadata": {
        "colab_type": "text",
        "id": "view-in-github"
      },
      "source": [
        "<a href=\"https://colab.research.google.com/github/andersonbraz/hands-on-notebooks/blob/main/lesson-01.ipynb\" target=\"_parent\"><img src=\"https://colab.research.google.com/assets/colab-badge.svg\" alt=\"Open In Colab\"/></a>"
      ]
    },
    {
      "cell_type": "code",
      "execution_count": 1,
      "metadata": {
        "colab": {
          "base_uri": "https://localhost:8080/"
        },
        "id": "xEKeCMnx86kJ",
        "outputId": "4353cd86-7ca5-4534-d7b3-3aef84e8da30"
      },
      "outputs": [],
      "source": [
        "# !pip install psutil"
      ]
    },
    {
      "cell_type": "code",
      "execution_count": 2,
      "metadata": {
        "colab": {
          "base_uri": "https://localhost:8080/"
        },
        "id": "Vglzo5mX9TQH",
        "outputId": "04472229-2592-47cc-ed81-26b7ae058ef9"
      },
      "outputs": [
        {
          "name": "stdout",
          "output_type": "stream",
          "text": [
            "Memória total: 7.64 GB\n",
            "Memória utilizada: 2.12 GB\n"
          ]
        }
      ],
      "source": [
        "import psutil\n",
        "\n",
        "# Obtenha informações sobre a memória virtual (RAM)\n",
        "mem_info = psutil.virtual_memory()\n",
        "\n",
        "# Total de memória física (excluindo a memória de troca)\n",
        "total_memory = mem_info.total / (1024 ** 3)  # Converta para gigabytes (GB)\n",
        "\n",
        "# Memória disponível para processos\n",
        "available_memory = mem_info.available / (1024 ** 3)  # Converta para GB\n",
        "\n",
        "# Memória utilizada\n",
        "used_memory = total_memory - available_memory\n",
        "\n",
        "print(f\"Memória total: {total_memory:.2f} GB\")\n",
        "print(f\"Memória utilizada: {used_memory:.2f} GB\")"
      ]
    }
  ],
  "metadata": {
    "colab": {
      "authorship_tag": "ABX9TyP2fSctrGFT7JvGh1Ffwz/M",
      "include_colab_link": true,
      "provenance": [],
      "toc_visible": true
    },
    "kernelspec": {
      "display_name": "Python 3",
      "name": "python3"
    },
    "language_info": {
      "codemirror_mode": {
        "name": "ipython",
        "version": 3
      },
      "file_extension": ".py",
      "mimetype": "text/x-python",
      "name": "python",
      "nbconvert_exporter": "python",
      "pygments_lexer": "ipython3",
      "version": "3.11.2"
    }
  },
  "nbformat": 4,
  "nbformat_minor": 0
}
