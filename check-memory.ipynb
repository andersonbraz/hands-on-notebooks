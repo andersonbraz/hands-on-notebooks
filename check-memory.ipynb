{
  "cells": [
    {
      "cell_type": "markdown",
      "metadata": {
        "id": "view-in-github",
        "colab_type": "text"
      },
      "source": [
        "<a href=\"https://colab.research.google.com/github/andersonbraz/hands-on-notebooks/blob/main/check-memory.ipynb\" target=\"_parent\"><img src=\"https://colab.research.google.com/assets/colab-badge.svg\" alt=\"Open In Colab\"/></a>"
      ]
    },
    {
      "cell_type": "code",
      "execution_count": 1,
      "metadata": {
        "colab": {
          "base_uri": "https://localhost:8080/"
        },
        "id": "xEKeCMnx86kJ",
        "outputId": "fb26d12a-bcdb-44c4-ee01-724b0c05c520"
      },
      "outputs": [
        {
          "output_type": "stream",
          "name": "stdout",
          "text": [
            "Requirement already satisfied: psutil in /usr/local/lib/python3.10/dist-packages (5.9.5)\n"
          ]
        }
      ],
      "source": [
        "# !pip install psutil"
      ]
    },
    {
      "cell_type": "code",
      "execution_count": 2,
      "metadata": {
        "colab": {
          "base_uri": "https://localhost:8080/"
        },
        "id": "Vglzo5mX9TQH",
        "outputId": "325d4e6f-e80b-429f-dfd4-77073d2dd233"
      },
      "outputs": [
        {
          "output_type": "stream",
          "name": "stdout",
          "text": [
            "Memória total: 12.67 GB\n",
            "Memória utilizada: 1.11 GB\n"
          ]
        }
      ],
      "source": [
        "import psutil\n",
        "\n",
        "\n",
        "mem_info = psutil.virtual_memory()\n",
        "\n",
        "total_memory = mem_info.total / (1024 ** 3)\n",
        "available_memory = mem_info.available / (1024 ** 3)\n",
        "used_memory = total_memory - available_memory\n",
        "\n",
        "print(f\"Memória total: {total_memory:.2f} GB\")\n",
        "print(f\"Memória utilizada: {used_memory:.2f} GB\")"
      ]
    }
  ],
  "metadata": {
    "colab": {
      "provenance": [],
      "toc_visible": true,
      "include_colab_link": true
    },
    "kernelspec": {
      "display_name": "Python 3",
      "name": "python3"
    },
    "language_info": {
      "codemirror_mode": {
        "name": "ipython",
        "version": 3
      },
      "file_extension": ".py",
      "mimetype": "text/x-python",
      "name": "python",
      "nbconvert_exporter": "python",
      "pygments_lexer": "ipython3",
      "version": "3.11.2"
    }
  },
  "nbformat": 4,
  "nbformat_minor": 0
}