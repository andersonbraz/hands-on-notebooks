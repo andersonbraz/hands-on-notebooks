{
  "cells": [
    {
      "cell_type": "markdown",
      "metadata": {
        "colab_type": "text",
        "id": "view-in-github"
      },
      "source": [
        "<a href=\"https://colab.research.google.com/github/andersonbraz/hands-on-notebooks/blob/main/sample_faker.ipynb\" target=\"_parent\"><img src=\"https://colab.research.google.com/assets/colab-badge.svg\" alt=\"Open In Colab\"/></a>"
      ]
    },
    {
      "cell_type": "code",
      "execution_count": 1,
      "metadata": {
        "colab": {
          "base_uri": "https://localhost:8080/"
        },
        "id": "SxjWlExL9Dwi",
        "outputId": "00b1d957-e43f-4ca0-96e7-d209440f25ef"
      },
      "outputs": [
        {
          "name": "stdout",
          "output_type": "stream",
          "text": [
            "Requirement already satisfied: pandas in /usr/local/lib/python3.10/dist-packages (1.5.3)\n",
            "Collecting Faker\n",
            "  Downloading Faker-24.4.0-py3-none-any.whl (1.8 MB)\n",
            "\u001b[2K     \u001b[90m━━━━━━━━━━━━━━━━━━━━━━━━━━━━━━━━━━━━━━━━\u001b[0m \u001b[32m1.8/1.8 MB\u001b[0m \u001b[31m7.5 MB/s\u001b[0m eta \u001b[36m0:00:00\u001b[0m\n",
            "\u001b[?25hRequirement already satisfied: python-dateutil>=2.8.1 in /usr/local/lib/python3.10/dist-packages (from pandas) (2.8.2)\n",
            "Requirement already satisfied: pytz>=2020.1 in /usr/local/lib/python3.10/dist-packages (from pandas) (2023.4)\n",
            "Requirement already satisfied: numpy>=1.21.0 in /usr/local/lib/python3.10/dist-packages (from pandas) (1.25.2)\n",
            "Requirement already satisfied: six>=1.5 in /usr/local/lib/python3.10/dist-packages (from python-dateutil>=2.8.1->pandas) (1.16.0)\n",
            "Installing collected packages: Faker\n",
            "Successfully installed Faker-24.4.0\n"
          ]
        }
      ],
      "source": [
        "!pip install pandas Faker"
      ]
    },
    {
      "cell_type": "code",
      "execution_count": 3,
      "metadata": {
        "colab": {
          "base_uri": "https://localhost:8080/"
        },
        "id": "uGVufiZl89Qk",
        "outputId": "34149139-0e57-4136-c242-3ca200827efe"
      },
      "outputs": [
        {
          "name": "stdout",
          "output_type": "stream",
          "text": [
            "Fake data saved as 'fake_data.xlsx'.\n"
          ]
        }
      ],
      "source": [
        "import pandas as pd\n",
        "from faker import Faker\n",
        "import random\n",
        "\n",
        "# Create a Faker instance\n",
        "fake = Faker('pt_BR')\n",
        "\n",
        "# Generate fake data\n",
        "def generate_fake_data(num_records):\n",
        "    data = []\n",
        "    for _ in range(num_records):\n",
        "        full_name = fake.name()\n",
        "        birthdate = fake.date_of_birth(minimum_age=18, maximum_age=90)\n",
        "        gender = random.choice(['M', 'F'])\n",
        "        cep = fake.postcode()\n",
        "        data.append([full_name, birthdate, gender, cep])\n",
        "    return data\n",
        "\n",
        "# Generate 20 fake records\n",
        "num_records = 20\n",
        "fake_data = generate_fake_data(num_records)\n",
        "\n",
        "# Create a DataFrame from the fake data\n",
        "df = pd.DataFrame(fake_data, columns=['Full Name', 'Birthdate', 'Gender', 'CEP'])\n",
        "\n",
        "# Save the DataFrame as an Excel file in the specified path\n",
        "save_path = r\"fake_data.xlsx\"\n",
        "df.to_excel(save_path, index=False)\n",
        "print(f\"Fake data saved as '{save_path}'.\")"
      ]
    }
  ],
  "metadata": {
    "colab": {
      "authorship_tag": "ABX9TyMh5zsTOrLq3FzNyG1vx4L0",
      "include_colab_link": true,
      "provenance": []
    },
    "kernelspec": {
      "display_name": "Python 3",
      "name": "python3"
    },
    "language_info": {
      "name": "python",
      "version": "3.11.2"
    }
  },
  "nbformat": 4,
  "nbformat_minor": 0
}
