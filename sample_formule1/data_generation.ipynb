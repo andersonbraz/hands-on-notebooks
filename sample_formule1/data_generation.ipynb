{
  "cells": [
    {
      "cell_type": "markdown",
      "metadata": {
        "colab_type": "text",
        "id": "view-in-github"
      },
      "source": [
        "<a href=\"https://colab.research.google.com/github/andersonbraz/hands-on-notebooks/blob/main/sample_spark.ipynb\" target=\"_parent\"><img src=\"https://colab.research.google.com/assets/colab-badge.svg\" alt=\"Open In Colab\"/></a>"
      ]
    },
    {
      "cell_type": "code",
      "execution_count": 1,
      "metadata": {
        "colab": {
          "base_uri": "https://localhost:8080/"
        },
        "id": "Ywsh0mpjBKiy",
        "outputId": "bf0a3730-e131-40de-ac46-ce953a956360"
      },
      "outputs": [
        {
          "name": "stdout",
          "output_type": "stream",
          "text": [
            "Requirement already satisfied: pyspark in /root/hadoop/spark-3.5.1/python (3.5.1)\n",
            "Requirement already satisfied: py4j==0.10.9.7 in /root/projects/hands-on-notebooks/.venv/lib/python3.11/site-packages (from pyspark) (0.10.9.7)\n"
          ]
        }
      ],
      "source": [
        "#!pip install pyspark"
      ]
    },
    {
      "cell_type": "code",
      "execution_count": 2,
      "metadata": {
        "id": "Md-FXwV3H0mX"
      },
      "outputs": [],
      "source": [
        "from pyspark.sql import SparkSession"
      ]
    },
    {
      "cell_type": "code",
      "execution_count": 3,
      "metadata": {
        "id": "FtgZ_6MpBZGa"
      },
      "outputs": [
        {
          "name": "stderr",
          "output_type": "stream",
          "text": [
            "your 131072x1 screen size is bogus. expect trouble\n",
            "Setting default log level to \"WARN\".\n",
            "To adjust logging level use sc.setLogLevel(newLevel). For SparkR, use setLogLevel(newLevel).\n",
            "24/06/02 10:30:18 WARN NativeCodeLoader: Unable to load native-hadoop library for your platform... using builtin-java classes where applicable\n"
          ]
        }
      ],
      "source": [
        "\n",
        "spark = SparkSession.builder\\\n",
        "        .master(\"local\")\\\n",
        "        .appName(\"Colab\")\\\n",
        "        .getOrCreate()"
      ]
    },
    {
      "cell_type": "code",
      "execution_count": 4,
      "metadata": {
        "id": "OsyFV_cFCpSo"
      },
      "outputs": [],
      "source": [
        "from pyspark.sql import Row\n",
        "\n",
        "class Teams:\n",
        "\n",
        "\tdef __init__(self, spark):\n",
        "\t\tself._spark = spark\n",
        "\n",
        "\tdef get_list(self):\n",
        "\n",
        "\t\tteams_data = [\n",
        "\t\t\tRow(team_id=1, name=\"Red Bull\"),\n",
        "\t\t\tRow(team_id=2, name=\"Ferrari\"),\n",
        "\t\t\tRow(team_id=3, name=\"Mercedes\"),\n",
        "\t\t\tRow(team_id=4, name=\"Alpine\"),\n",
        "\t\t\tRow(team_id=5, name=\"McLaren\"),\n",
        "\t\t\tRow(team_id=6, name=\"Sauber\"),\n",
        "\t\t\tRow(team_id=7, name=\"Aston Martin\"),\n",
        "\t\t\tRow(team_id=8, name=\"Haas\"),\n",
        "\t\t\tRow(team_id=9, name=\"Alpha Tauri\"),\n",
        "\t\t\tRow(team_id=10, name=\"Williams\"),\n",
        "\t\t]\n",
        "\n",
        "\t\tdf_teams = self._spark.createDataFrame(teams_data)\n",
        "\n",
        "\t\treturn df_teams"
      ]
    },
    {
      "cell_type": "code",
      "execution_count": 5,
      "metadata": {
        "id": "E1c_mg3uWlrW"
      },
      "outputs": [],
      "source": [
        "from pyspark.sql import Row\n",
        "\n",
        "class Cars:\n",
        "\n",
        "\tdef __init__(self, spark):\n",
        "\t\tself._spark = spark\n",
        "\n",
        "\tdef get_list(self):\n",
        "\n",
        "\t\tcars_data = [\n",
        "\t\t\tRow(car_id=1, team_id=1, motor=\"Honda 1.6 V6 Turbo\", year=\"2024\"),\n",
        "\t\t\tRow(car_id=11, team_id=1, motor=\"Honda 1.6 V6 Turbo\", year=\"2024\"),\n",
        "\t\t\tRow(car_id=16, team_id=2, motor=\"Ferrari 1.6 V6 turbo\", year=\"2024\"),\n",
        "\t\t\tRow(car_id=55, team_id=2, motor=\"Ferrari 1.6 V6 turbo\", year=\"2024\"),\n",
        "\t\t\tRow(car_id=44, team_id=3, motor=\"Mercedes 1.6 V6 turbo\", year=\"2024\"),\n",
        "\t\t\tRow(car_id=63, team_id=3, motor=\"Mercedes 1.6 V6 turbo\", year=\"2024\"),\n",
        "\t\t\tRow(car_id=31, team_id=4, motor=\"Renault 1.6 V6 turbo\", year=\"2024\"),\n",
        "\t\t\tRow(car_id=10, team_id=4, motor=\"Renault 1.6 V6 turbo\", year=\"2024\"),\n",
        "\t\t\tRow(car_id=4, team_id=5, motor=\"Mercedes 1.6 V6 turbo\", year=\"2024\"),\n",
        "\t\t\tRow(car_id=81, team_id=5, motor=\"Mercedes 1.6 V6 turbo\", year=\"2024\"),\n",
        "\t\t\tRow(car_id=77, team_id=6, motor=\"Ferrari 1.6 V6 turbo\", year=\"2024\"),\n",
        "\t\t\tRow(car_id=24, team_id=6, motor=\"Ferrari 1.6 V6 turbo\", year=\"2024\"),\n",
        "\t\t\tRow(car_id=14, team_id=7, motor=\"Mercedes 1.6 V6 turbo\", year=\"2024\"),\n",
        "\t\t\tRow(car_id=18, team_id=7, motor=\"Mercedes 1.6 V6 turbo\", year=\"2024\"),\n",
        "\t\t\tRow(car_id=20, team_id=8, motor=\"Ferrari 1.6 V6 turbo\", year=\"2024\"),\n",
        "\t\t\tRow(car_id=27, team_id=8, motor=\"Ferrari 1.6 V6 turbo\", year=\"2024\"),\n",
        "\t\t\tRow(car_id=3, team_id=9, motor=\"Honda 1.6 V6 Turbo\", year=\"2024\"),\n",
        "\t\t\tRow(car_id=22, team_id=9, motor=\"Honda 1.6 V6 Turbo\", year=\"2024\"),\n",
        "\t\t\tRow(car_id=23, team_id=10, motor=\"Mercedes 1.6 V6 turbo\", year=\"2024\"),\n",
        "\t\t\tRow(car_id=2, team_id=10, motor=\"Mercedes 1.6 V6 turbo\", year=\"2024\"),\n",
        "\t\t]\n",
        "\n",
        "\t\tdf_cars = self._spark.createDataFrame(cars_data)\n",
        "\n",
        "\t\treturn df_cars"
      ]
    },
    {
      "cell_type": "code",
      "execution_count": 6,
      "metadata": {
        "id": "bXDqEQC6Wm1M"
      },
      "outputs": [],
      "source": [
        "from pyspark.sql import Row\n",
        "\n",
        "class Drivers:\n",
        "\n",
        "\tdef __init__(self, spark):\n",
        "\t\tself._spark = spark\n",
        "\n",
        "\tdef get_list(self):\n",
        "\n",
        "\t\tdrivers_data = [\n",
        "\t\t\tRow(id=\"796457b\", car_id=1, name=\"Max Verstappen\", age=26, country=\"Holanda\", birth_date=\"1997-09-30\"),\n",
        "\t\t\tRow(id=\"94d7946\", car_id=11, name=\"Sergio Pérez\", age=34, country=\"México\", birth_date=\"1990-01-26\"),\n",
        "\t\t\tRow(id=\"a9994ed\", car_id=16, name=\"Charles Leclerc\", age=26, country=\"Monaco\", birth_date=\"1997-10-16\"),\n",
        "\t\t\tRow(id=\"1ce3787\", car_id=55, name=\"Carlos Sainz\", age=29, country=\"Espanha\", birth_date=\"1994-09-01\"),\n",
        "\t\t\tRow(id=\"d91f4dc\", car_id=44, name=\"Lewis Hamilton\", age=39, country=\"Reino Unido\", birth_date=\"1985-01-07\"),\n",
        "\t\t\tRow(id=\"13ad8d5\", car_id=63, name=\"George Russell\", age=26, country=\"Reino Unido\", birth_date=\"1998-02-15\"),\n",
        "\t\t\tRow(id=\"5764e4f\", car_id=31, name=\"Esteban Ocon\", age=27, country=\"França\", birth_date=\"1996-09-17\"),\n",
        "\t\t\tRow(id=\"7764e2f\", car_id=10, name=\"Pierre Gasly\", age=28, country=\"França\", birth_date=\"1996-02-07\"),\n",
        "\t\t\tRow(id=\"2104f0e\", car_id=4, name=\"Lando Norris\", age=24, country=\"Reino Unido\", birth_date=\"1999-11-13\"),\n",
        "\t\t\tRow(id=\"ad10075\", car_id=81, name=\"Oscar Piastri\", age=22, country=\"Austrália\", birth_date=\"2001-04-06\"),\n",
        "\t\t\tRow(id=\"85b13a9\", car_id=77, name=\"Valtteri Bottas\", age=34, country=\"Finlândia\", birth_date=\"1989-08-28\"),\n",
        "\t\t\tRow(id=\"2fdf49d\", car_id=24, name=\"Zhou Guanyu\", age=24, country=\"China\", birth_date=\"1999-05-30\"),\n",
        "\t\t\tRow(id=\"2f2a7f0\", car_id=14, name=\"Fernando Alonso\", age=42, country=\"Espanha\", birth_date=\"1981-07-29\"),\n",
        "\t\t\tRow(id=\"8d16571\", car_id=18, name=\"Lance Stroll\", age=25, country=\"Canadá\", birth_date=\"1998-10-29\"),\n",
        "\t\t\tRow(id=\"13d8a7b\", car_id=20, name=\"Kevin Magnussen\", age=31, country=\"Dinamarca\", birth_date=\"1992-10-05\"),\n",
        "\t\t\tRow(id=\"f041565\", car_id=27, name=\"Nico Hulkenberg\", age=36, country=\"Alemanha\", birth_date=\"1987-08-19\"),\n",
        "\t\t\tRow(id=\"bdebc4c\", car_id=3, name=\"Daniel Ricciardo\", age=34, country=\"Austrália\", birth_date=\"1989-07-01\"),\n",
        "\t\t\tRow(id=\"52ca72c\", car_id=22, name=\"Yuki Tsunoda\", age=23, country=\"Japão\", birth_date=\"2000-05-11\"),\n",
        "\t\t\tRow(id=\"f77b279\", car_id=23, name=\"Alex Albon\", age=27, country=\"Tainlândia\", birth_date=\"1996-03-27\"),\n",
        "\t\t\tRow(id=\"01f90ff\", car_id=2, name=\"Sargento Logan\", age=23, country=\"Estados Unidos\", birth_date=\"2000-12-31\"),\n",
        "\t\t]\n",
        "\n",
        "\t\tdf_drivers = self._spark.createDataFrame(drivers_data)\n",
        "\n",
        "\t\treturn df_drivers"
      ]
    },
    {
      "cell_type": "code",
      "execution_count": 7,
      "metadata": {
        "colab": {
          "base_uri": "https://localhost:8080/"
        },
        "id": "RHbVUt69WtjA",
        "outputId": "9eed05df-ea61-4b3c-b3c7-615914702874"
      },
      "outputs": [
        {
          "name": "stdout",
          "output_type": "stream",
          "text": [
            "root\n",
            " |-- team_id: long (nullable = true)\n",
            " |-- name: string (nullable = true)\n",
            "\n"
          ]
        },
        {
          "name": "stderr",
          "output_type": "stream",
          "text": [
            "                                                                                \r"
          ]
        },
        {
          "name": "stdout",
          "output_type": "stream",
          "text": [
            "+-------+------------+\n",
            "|team_id|name        |\n",
            "+-------+------------+\n",
            "|1      |Red Bull    |\n",
            "|2      |Ferrari     |\n",
            "|3      |Mercedes    |\n",
            "|4      |Alpine      |\n",
            "|5      |McLaren     |\n",
            "|6      |Sauber      |\n",
            "|7      |Aston Martin|\n",
            "|8      |Haas        |\n",
            "|9      |Alpha Tauri |\n",
            "|10     |Williams    |\n",
            "+-------+------------+\n",
            "\n",
            "root\n",
            " |-- car_id: long (nullable = true)\n",
            " |-- team_id: long (nullable = true)\n",
            " |-- motor: string (nullable = true)\n",
            " |-- year: string (nullable = true)\n",
            "\n",
            "+------+-------+---------------------+----+\n",
            "|car_id|team_id|motor                |year|\n",
            "+------+-------+---------------------+----+\n",
            "|1     |1      |Honda 1.6 V6 Turbo   |2024|\n",
            "|11    |1      |Honda 1.6 V6 Turbo   |2024|\n",
            "|16    |2      |Ferrari 1.6 V6 turbo |2024|\n",
            "|55    |2      |Ferrari 1.6 V6 turbo |2024|\n",
            "|44    |3      |Mercedes 1.6 V6 turbo|2024|\n",
            "|63    |3      |Mercedes 1.6 V6 turbo|2024|\n",
            "|31    |4      |Renault 1.6 V6 turbo |2024|\n",
            "|10    |4      |Renault 1.6 V6 turbo |2024|\n",
            "|4     |5      |Mercedes 1.6 V6 turbo|2024|\n",
            "|81    |5      |Mercedes 1.6 V6 turbo|2024|\n",
            "|77    |6      |Ferrari 1.6 V6 turbo |2024|\n",
            "|24    |6      |Ferrari 1.6 V6 turbo |2024|\n",
            "|14    |7      |Mercedes 1.6 V6 turbo|2024|\n",
            "|18    |7      |Mercedes 1.6 V6 turbo|2024|\n",
            "|20    |8      |Ferrari 1.6 V6 turbo |2024|\n",
            "|27    |8      |Ferrari 1.6 V6 turbo |2024|\n",
            "|3     |9      |Honda 1.6 V6 Turbo   |2024|\n",
            "|22    |9      |Honda 1.6 V6 Turbo   |2024|\n",
            "|23    |10     |Mercedes 1.6 V6 turbo|2024|\n",
            "|2     |10     |Mercedes 1.6 V6 turbo|2024|\n",
            "+------+-------+---------------------+----+\n",
            "\n",
            "root\n",
            " |-- id: string (nullable = true)\n",
            " |-- car_id: long (nullable = true)\n",
            " |-- name: string (nullable = true)\n",
            " |-- age: long (nullable = true)\n",
            " |-- country: string (nullable = true)\n",
            " |-- birth_date: string (nullable = true)\n",
            "\n",
            "+-------+------+----------------+---+--------------+----------+\n",
            "|id     |car_id|name            |age|country       |birth_date|\n",
            "+-------+------+----------------+---+--------------+----------+\n",
            "|796457b|1     |Max Verstappen  |26 |Holanda       |1997-09-30|\n",
            "|94d7946|11    |Sergio Pérez    |34 |México        |1990-01-26|\n",
            "|a9994ed|16    |Charles Leclerc |26 |Monaco        |1997-10-16|\n",
            "|1ce3787|55    |Carlos Sainz    |29 |Espanha       |1994-09-01|\n",
            "|d91f4dc|44    |Lewis Hamilton  |39 |Reino Unido   |1985-01-07|\n",
            "|13ad8d5|63    |George Russell  |26 |Reino Unido   |1998-02-15|\n",
            "|5764e4f|31    |Esteban Ocon    |27 |França        |1996-09-17|\n",
            "|7764e2f|10    |Pierre Gasly    |28 |França        |1996-02-07|\n",
            "|2104f0e|4     |Lando Norris    |24 |Reino Unido   |1999-11-13|\n",
            "|ad10075|81    |Oscar Piastri   |22 |Austrália     |2001-04-06|\n",
            "|85b13a9|77    |Valtteri Bottas |34 |Finlândia     |1989-08-28|\n",
            "|2fdf49d|24    |Zhou Guanyu     |24 |China         |1999-05-30|\n",
            "|2f2a7f0|14    |Fernando Alonso |42 |Espanha       |1981-07-29|\n",
            "|8d16571|18    |Lance Stroll    |25 |Canadá        |1998-10-29|\n",
            "|13d8a7b|20    |Kevin Magnussen |31 |Dinamarca     |1992-10-05|\n",
            "|f041565|27    |Nico Hulkenberg |36 |Alemanha      |1987-08-19|\n",
            "|bdebc4c|3     |Daniel Ricciardo|34 |Austrália     |1989-07-01|\n",
            "|52ca72c|22    |Yuki Tsunoda    |23 |Japão         |2000-05-11|\n",
            "|f77b279|23    |Alex Albon      |27 |Tainlândia    |1996-03-27|\n",
            "|01f90ff|2     |Sargento Logan  |23 |Estados Unidos|2000-12-31|\n",
            "+-------+------+----------------+---+--------------+----------+\n",
            "\n"
          ]
        }
      ],
      "source": [
        "# Equipes\n",
        "\n",
        "teams = Teams(spark)\n",
        "df_teams = teams.get_list()\n",
        "\n",
        "df_teams.printSchema()\n",
        "df_teams.show(truncate=False)\n",
        "\n",
        "# Carros\n",
        "\n",
        "cars = Cars(spark)\n",
        "df_cars = cars.get_list()\n",
        "\n",
        "df_cars.printSchema()\n",
        "df_cars.show(truncate=False)\n",
        "\n",
        "# Pilotos\n",
        "\n",
        "drivers = Drivers(spark)\n",
        "df_drivers = drivers.get_list()\n",
        "\n",
        "df_drivers.printSchema()\n",
        "df_drivers.show(truncate=False)\n"
      ]
    }
  ],
  "metadata": {
    "colab": {
      "authorship_tag": "ABX9TyMDfH1sIzHCdsa4GdPsK+RS",
      "include_colab_link": true,
      "provenance": []
    },
    "kernelspec": {
      "display_name": "Python 3",
      "name": "python3"
    },
    "language_info": {
      "codemirror_mode": {
        "name": "ipython",
        "version": 3
      },
      "file_extension": ".py",
      "mimetype": "text/x-python",
      "name": "python",
      "nbconvert_exporter": "python",
      "pygments_lexer": "ipython3",
      "version": "3.11.2"
    }
  },
  "nbformat": 4,
  "nbformat_minor": 0
}
