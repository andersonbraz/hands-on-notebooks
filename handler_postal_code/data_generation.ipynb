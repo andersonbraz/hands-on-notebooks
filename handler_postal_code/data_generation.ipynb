{
 "cells": [
  {
   "cell_type": "code",
   "execution_count": 8,
   "metadata": {},
   "outputs": [],
   "source": [
    "import csv\n",
    "from faker import Faker\n",
    "import random"
   ]
  },
  {
   "cell_type": "code",
   "execution_count": 12,
   "metadata": {},
   "outputs": [],
   "source": [
    "\n",
    "\n",
    "fake = Faker(\"pt_BR\")\n",
    "\n",
    "with open('data.csv', 'w', newline='') as csvfile:\n",
    "    fieldnames = ['nome', 'email', 'data_nascimento', 'postal_code', 'category']\n",
    "    writer = csv.DictWriter(csvfile, fieldnames=fieldnames)\n",
    "    writer.writeheader()\n",
    "\n",
    "    for _ in range(100):\n",
    "        writer.writerow({\n",
    "            'nome': fake.name(),\n",
    "            'email': fake.email(),\n",
    "            'data_nascimento': fake.date_of_birth(minimum_age=18, maximum_age=60),\n",
    "            'postal_code': fake.postcode(),\n",
    "            'category' : random.choice(['Prime', 'Green', 'Simple'])\n",
    "        })\n"
   ]
  }
 ],
 "metadata": {
  "kernelspec": {
   "display_name": ".venv",
   "language": "python",
   "name": "python3"
  },
  "language_info": {
   "codemirror_mode": {
    "name": "ipython",
    "version": 3
   },
   "file_extension": ".py",
   "mimetype": "text/x-python",
   "name": "python",
   "nbconvert_exporter": "python",
   "pygments_lexer": "ipython3",
   "version": "3.11.2"
  }
 },
 "nbformat": 4,
 "nbformat_minor": 2
}
