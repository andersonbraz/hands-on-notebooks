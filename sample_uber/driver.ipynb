{
 "cells": [
  {
   "cell_type": "code",
   "execution_count": 1,
   "metadata": {},
   "outputs": [
    {
     "data": {
      "text/html": [
       "<style>pre { white-space: pre !important; }</style>"
      ],
      "text/plain": [
       "<IPython.core.display.HTML object>"
      ]
     },
     "metadata": {},
     "output_type": "display_data"
    }
   ],
   "source": [
    "from datetime import datetime\n",
    "\n",
    "from pyspark.sql import SparkSession\n",
    "from pyspark.sql import functions as F\n",
    "\n",
    "from IPython.core.display import HTML                                   #Função renderização html no Jupyter\n",
    "display(HTML(\"<style>pre { white-space: pre !important; }</style>\"))    #Função renderização html no Jupyter"
   ]
  },
  {
   "cell_type": "code",
   "execution_count": 2,
   "metadata": {},
   "outputs": [
    {
     "name": "stderr",
     "output_type": "stream",
     "text": [
      "your 131072x1 screen size is bogus. expect trouble\n",
      "Setting default log level to \"WARN\".\n",
      "To adjust logging level use sc.setLogLevel(newLevel). For SparkR, use setLogLevel(newLevel).\n",
      "24/07/22 15:35:46 WARN NativeCodeLoader: Unable to load native-hadoop library for your platform... using builtin-java classes where applicable\n",
      "24/07/22 15:35:47 WARN Utils: Service 'SparkUI' could not bind on port 4040. Attempting port 4041.\n"
     ]
    }
   ],
   "source": [
    "spark = SparkSession.builder.appName(\"UberDriver\").getOrCreate()"
   ]
  },
  {
   "cell_type": "code",
   "execution_count": 3,
   "metadata": {},
   "outputs": [
    {
     "name": "stderr",
     "output_type": "stream",
     "text": [
      "                                                                                \r"
     ]
    },
    {
     "name": "stdout",
     "output_type": "stream",
     "text": [
      "+----+-------+----------+-----+------+\n",
      "|CAR |PLATE  |DATE      |EVENT|PRICE |\n",
      "+----+-------+----------+-----+------+\n",
      "|HB20|SIE3J68|2024-07-02|LOAD |185.00|\n",
      "|HB20|SIE3J68|2024-07-03|WASH |15.00 |\n",
      "|HB20|SIE3J68|2024-07-05|LOAD |214.30|\n",
      "|HB20|SIE3J68|2024-07-07|LOAD |223.25|\n",
      "|HB20|SIE3J68|2024-07-07|WASH |15.00 |\n",
      "|HB20|SIE3J68|2024-07-09|LOAD |175.79|\n",
      "|HB20|SIE3J68|2024-07-09|WASH |15.00 |\n",
      "+----+-------+----------+-----+------+\n",
      "\n"
     ]
    }
   ],
   "source": [
    "df_csv = spark.read.option(\"delimiter\", \",\").option(\"header\", True).csv(\"data/base_driver_coust.csv\")\n",
    "\n",
    "df_csv.show(truncate=False)"
   ]
  }
 ],
 "metadata": {
  "kernelspec": {
   "display_name": ".venv",
   "language": "python",
   "name": "python3"
  },
  "language_info": {
   "codemirror_mode": {
    "name": "ipython",
    "version": 3
   },
   "file_extension": ".py",
   "mimetype": "text/x-python",
   "name": "python",
   "nbconvert_exporter": "python",
   "pygments_lexer": "ipython3",
   "version": "3.11.2"
  }
 },
 "nbformat": 4,
 "nbformat_minor": 2
}
