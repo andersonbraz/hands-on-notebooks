{
 "cells": [
  {
   "cell_type": "code",
   "execution_count": null,
   "metadata": {},
   "outputs": [],
   "source": [
    "from datetime import datetime\n",
    "\n",
    "from pyspark.sql import SparkSession\n",
    "from pyspark.sql import functions as F\n",
    "\n",
    "from IPython.core.display import HTML                                   #Função renderização html no Jupyter\n",
    "display(HTML(\"<style>pre { white-space: pre !important; }</style>\"))    #Função renderização html no Jupyter"
   ]
  },
  {
   "cell_type": "code",
   "execution_count": null,
   "metadata": {},
   "outputs": [],
   "source": [
    "spark = SparkSession.builder.appName(\"UberDriver\").getOrCreate()"
   ]
  },
  {
   "cell_type": "code",
   "execution_count": null,
   "metadata": {},
   "outputs": [],
   "source": [
    "df_csv = spark.read.option(\"delimiter\", \",\").option(\"header\", True).csv(\"data/base_driver_coust.csv\")\\\n",
    ".withColumn(\"PRICE\", F.col(\"PRICE\").cast(\"float\"))\n",
    "\n",
    "# df_csv.show(truncate=False)"
   ]
  },
  {
   "cell_type": "code",
   "execution_count": null,
   "metadata": {},
   "outputs": [],
   "source": [
    "df_report = df_csv.groupBy(\"EVENT\").agg(F.sum(\"PRICE\").alias(\"COSTS\"))\\\n",
    ".withColumn(\"COSTS\", F.round(F.col(\"COSTS\"), 2))\n",
    "\n",
    "df_report.show(truncate=False)"
   ]
  }
 ],
 "metadata": {
  "kernelspec": {
   "display_name": ".venv",
   "language": "python",
   "name": "python3"
  },
  "language_info": {
   "codemirror_mode": {
    "name": "ipython",
    "version": 3
   },
   "file_extension": ".py",
   "mimetype": "text/x-python",
   "name": "python",
   "nbconvert_exporter": "python",
   "pygments_lexer": "ipython3",
   "version": "3.10.14"
  }
 },
 "nbformat": 4,
 "nbformat_minor": 2
}
