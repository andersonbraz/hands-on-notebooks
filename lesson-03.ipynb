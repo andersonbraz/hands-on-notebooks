{
  "nbformat": 4,
  "nbformat_minor": 0,
  "metadata": {
    "colab": {
      "provenance": [],
      "authorship_tag": "ABX9TyMNKjEBWPU/B9+K3Ks3Wd1i",
      "include_colab_link": true
    },
    "kernelspec": {
      "name": "python3",
      "display_name": "Python 3"
    },
    "language_info": {
      "name": "python"
    }
  },
  "cells": [
    {
      "cell_type": "markdown",
      "metadata": {
        "id": "view-in-github",
        "colab_type": "text"
      },
      "source": [
        "<a href=\"https://colab.research.google.com/github/andersonbraz/hands-on-notebooks/blob/main/lesson_03.ipynb\" target=\"_parent\"><img src=\"https://colab.research.google.com/assets/colab-badge.svg\" alt=\"Open In Colab\"/></a>"
      ]
    },
    {
      "cell_type": "code",
      "execution_count": null,
      "metadata": {
        "colab": {
          "base_uri": "https://localhost:8080/"
        },
        "id": "xEKeCMnx86kJ",
        "outputId": "b6b79f01-ce8f-4229-f2a6-5a01ca486437"
      },
      "outputs": [
        {
          "output_type": "stream",
          "name": "stdout",
          "text": [
            "Collecting pyspark\n",
            "  Downloading pyspark-3.5.1.tar.gz (317.0 MB)\n",
            "\u001b[2K     \u001b[90m━━━━━━━━━━━━━━━━━━━━━━━━━━━━━━━━━━━━━━━━\u001b[0m \u001b[32m317.0/317.0 MB\u001b[0m \u001b[31m1.1 MB/s\u001b[0m eta \u001b[36m0:00:00\u001b[0m\n",
            "\u001b[?25h  Preparing metadata (setup.py) ... \u001b[?25l\u001b[?25hdone\n",
            "Requirement already satisfied: py4j==0.10.9.7 in /usr/local/lib/python3.10/dist-packages (from pyspark) (0.10.9.7)\n",
            "Building wheels for collected packages: pyspark\n",
            "  Building wheel for pyspark (setup.py) ... \u001b[?25l\u001b[?25hdone\n",
            "  Created wheel for pyspark: filename=pyspark-3.5.1-py2.py3-none-any.whl size=317488491 sha256=6a3b56320b8f779d1d5f3f42c109d46a495ec8c66aa4b4d58f6cb8836f1143e4\n",
            "  Stored in directory: /root/.cache/pip/wheels/80/1d/60/2c256ed38dddce2fdd93be545214a63e02fbd8d74fb0b7f3a6\n",
            "Successfully built pyspark\n",
            "Installing collected packages: pyspark\n",
            "Successfully installed pyspark-3.5.1\n"
          ]
        }
      ],
      "source": [
        "!pip install pyspark"
      ]
    },
    {
      "cell_type": "code",
      "source": [
        "# prompt: Preciso iniciar uma sessão spark crie um código mínimo de modelo pra mim.\n",
        "\n",
        "from pyspark.sql import SparkSession\n",
        "\n",
        "spark = SparkSession.builder.getOrCreate()\n"
      ],
      "metadata": {
        "id": "Vglzo5mX9TQH"
      },
      "execution_count": null,
      "outputs": []
    },
    {
      "cell_type": "markdown",
      "source": [],
      "metadata": {
        "id": "VZsENSs70su5"
      }
    },
    {
      "cell_type": "code",
      "source": [
        "# prompt: Preciso ler um parquet que está num github e demosntrar ele em dataframe.\n",
        "\n",
        "df = spark.read.parquet(\"userdata1.parquet\")\n",
        "df.show(truncate=False)"
      ],
      "metadata": {
        "id": "9FLbdMxBy-n2",
        "outputId": "9b094793-db1e-47a1-c663-ae7817c369b4",
        "colab": {
          "base_uri": "https://localhost:8080/"
        }
      },
      "execution_count": null,
      "outputs": [
        {
          "output_type": "stream",
          "name": "stdout",
          "text": [
            "+-------------------+---+----------+---------+------------------------+------+---------------+-------------------+----------------------+----------+---------+----------------------------+----------------------------+\n",
            "|registration_dttm  |id |first_name|last_name|email                   |gender|ip_address     |cc                 |country               |birthdate |salary   |title                       |comments                    |\n",
            "+-------------------+---+----------+---------+------------------------+------+---------------+-------------------+----------------------+----------+---------+----------------------------+----------------------------+\n",
            "|2016-02-03 07:55:29|1  |Amanda    |Jordan   |ajordan0@com.com        |Female|1.197.201.2    |6759521864920116   |Indonesia             |3/8/1971  |49756.53 |Internal Auditor            |1E+02                       |\n",
            "|2016-02-03 17:04:03|2  |Albert    |Freeman  |afreeman1@is.gd         |Male  |218.111.175.34 |                   |Canada                |1/16/1968 |150280.17|Accountant IV               |                            |\n",
            "|2016-02-03 01:09:31|3  |Evelyn    |Morgan   |emorgan2@altervista.org |Female|7.161.136.94   |6767119071901597   |Russia                |2/1/1960  |144972.51|Structural Engineer         |                            |\n",
            "|2016-02-03 00:36:21|4  |Denise    |Riley    |driley3@gmpg.org        |Female|140.35.109.83  |3576031598965625   |China                 |4/8/1997  |90263.05 |Senior Cost Accountant      |                            |\n",
            "|2016-02-03 05:05:31|5  |Carlos    |Burns    |cburns4@miitbeian.gov.cn|      |169.113.235.40 |5602256255204850   |South Africa          |          |NULL     |                            |                            |\n",
            "|2016-02-03 07:22:34|6  |Kathryn   |White    |kwhite5@google.com      |Female|195.131.81.179 |3583136326049310   |Indonesia             |2/25/1983 |69227.11 |Account Executive           |                            |\n",
            "|2016-02-03 08:33:08|7  |Samuel    |Holmes   |sholmes6@foxnews.com    |Male  |232.234.81.197 |3582641366974690   |Portugal              |12/18/1987|14247.62 |Senior Financial Analyst    |                            |\n",
            "|2016-02-03 06:47:06|8  |Harry     |Howell   |hhowell7@eepurl.com     |Male  |91.235.51.73   |                   |Bosnia and Herzegovina|3/1/1962  |186469.43|Web Developer IV            |                            |\n",
            "|2016-02-03 03:52:53|9  |Jose      |Foster   |jfoster8@yelp.com       |Male  |132.31.53.61   |                   |South Korea           |3/27/1992 |231067.84|Software Test Engineer I    |1E+02                       |\n",
            "|2016-02-03 18:29:47|10 |Emily     |Stewart  |estewart9@opensource.org|Female|143.28.251.245 |3574254110301671   |Nigeria               |1/28/1997 |27234.28 |Health Coach IV             |                            |\n",
            "|2016-02-03 00:10:42|11 |Susan     |Perkins  |sperkinsa@patch.com     |Female|180.85.0.62    |3573823609854134   |Russia                |          |210001.95|                            |                            |\n",
            "|2016-02-03 18:04:34|12 |Alice     |Berry    |aberryb@wikipedia.org   |Female|246.225.12.189 |4917830851454417   |China                 |8/12/1968 |22944.53 |Quality Engineer            |                            |\n",
            "|2016-02-03 18:48:17|13 |Justin    |Berry    |jberryc@usatoday.com    |Male  |157.7.146.43   |6331109912871813274|Zambia                |8/15/1975 |44165.46 |Structural Analysis Engineer|                            |\n",
            "|2016-02-03 21:46:52|14 |Kathy     |Reynolds |kreynoldsd@redcross.org |Female|81.254.172.13  |5537178462965976   |Bosnia and Herzegovina|6/27/1970 |286592.99|Librarian                   |                            |\n",
            "|2016-02-03 08:53:23|15 |Dorothy   |Hudson   |dhudsone@blogger.com    |Female|8.59.7.0       |3542586858224170   |Japan                 |12/20/1989|157099.71|Nurse Practicioner          |<script>alert('hi')</script>|\n",
            "|2016-02-03 00:44:01|16 |Bruce     |Willis   |bwillisf@bluehost.com   |Male  |239.182.219.189|3573030625927601   |Brazil                |          |239100.65|                            |                            |\n",
            "|2016-02-03 00:57:45|17 |Emily     |Andrews  |eandrewsg@cornell.edu   |Female|29.231.180.172 |30271790537626     |Russia                |4/13/1990 |116800.65|Food Chemist                |                            |\n",
            "|2016-02-03 16:44:24|18 |Stephen   |Wallace  |swallaceh@netvibes.com  |Male  |152.49.213.62  |5433943468526428   |Ukraine               |1/15/1978 |248877.99|Account Representative I    |                            |\n",
            "|2016-02-03 11:45:54|19 |Clarence  |Lawson   |clawsoni@vkontakte.ru   |Male  |107.175.15.152 |3544052814080964   |Russia                |          |177122.99|                            |                            |\n",
            "|2016-02-03 10:30:36|20 |Rebecca   |Bell     |rbellj@bandcamp.com     |Female|172.215.104.127|                   |China                 |          |137251.19|                            |                            |\n",
            "+-------------------+---+----------+---------+------------------------+------+---------------+-------------------+----------------------+----------+---------+----------------------------+----------------------------+\n",
            "only showing top 20 rows\n",
            "\n"
          ]
        }
      ]
    },
    {
      "cell_type": "code",
      "source": [
        "df_example_a = df.filter(df[\"last_name\"] == 'Berry')\n",
        "df_example_a.show(truncate=False)"
      ],
      "metadata": {
        "id": "ZtEjoZJ404Sd",
        "outputId": "1a2930a0-9202-4f71-827e-65a37c142469",
        "colab": {
          "base_uri": "https://localhost:8080/"
        }
      },
      "execution_count": null,
      "outputs": [
        {
          "output_type": "stream",
          "name": "stdout",
          "text": [
            "+-------------------+---+----------+---------+---------------------+------+--------------+-------------------+---------+---------+---------+----------------------------+--------+\n",
            "|registration_dttm  |id |first_name|last_name|email                |gender|ip_address    |cc                 |country  |birthdate|salary   |title                       |comments|\n",
            "+-------------------+---+----------+---------+---------------------+------+--------------+-------------------+---------+---------+---------+----------------------------+--------+\n",
            "|2016-02-03 18:04:34|12 |Alice     |Berry    |aberryb@wikipedia.org|Female|246.225.12.189|4917830851454417   |China    |8/12/1968|22944.53 |Quality Engineer            |        |\n",
            "|2016-02-03 18:48:17|13 |Justin    |Berry    |jberryc@usatoday.com |Male  |157.7.146.43  |6331109912871813274|Zambia   |8/15/1975|44165.46 |Structural Analysis Engineer|        |\n",
            "|2016-02-03 19:09:48|31 |Antonio   |Berry    |aberryu@ow.ly        |Male  |5.82.180.4    |                   |Thailand |         |135007.96|                            |        |\n",
            "|2016-02-03 05:55:57|58 |Arthur    |Berry    |aberry1l@unc.edu     |Male  |52.42.24.55   |3542761473624274   |China    |         |144164.88|                            |        |\n",
            "|2016-02-03 14:32:34|407|Brenda    |Berry    |bberryba@blogger.com |      |46.61.210.251 |374260362103747    |Indonesia|3/18/1993|NULL     |Systems Administrator I     |        |\n",
            "|2016-02-03 05:39:07|884|David     |Berry    |dberryoj@unc.edu     |Male  |209.61.65.143 |3537528565358906   |Indonesia|6/12/1999|187086.65|Administrative Assistant II |        |\n",
            "+-------------------+---+----------+---------+---------------------+------+--------------+-------------------+---------+---------+---------+----------------------------+--------+\n",
            "\n"
          ]
        }
      ]
    },
    {
      "cell_type": "code",
      "source": [
        "df_example_a = df.where(df[\"last_name\"] == 'Berry')\n",
        "df_example_a.show(truncate=False)"
      ],
      "metadata": {
        "id": "oPzBFqKN1njO",
        "outputId": "4b498034-de67-4635-add2-1fb0d4893c75",
        "colab": {
          "base_uri": "https://localhost:8080/"
        }
      },
      "execution_count": null,
      "outputs": [
        {
          "output_type": "stream",
          "name": "stdout",
          "text": [
            "+-------------------+---+----------+---------+---------------------+------+--------------+-------------------+---------+---------+---------+----------------------------+--------+\n",
            "|registration_dttm  |id |first_name|last_name|email                |gender|ip_address    |cc                 |country  |birthdate|salary   |title                       |comments|\n",
            "+-------------------+---+----------+---------+---------------------+------+--------------+-------------------+---------+---------+---------+----------------------------+--------+\n",
            "|2016-02-03 18:04:34|12 |Alice     |Berry    |aberryb@wikipedia.org|Female|246.225.12.189|4917830851454417   |China    |8/12/1968|22944.53 |Quality Engineer            |        |\n",
            "|2016-02-03 18:48:17|13 |Justin    |Berry    |jberryc@usatoday.com |Male  |157.7.146.43  |6331109912871813274|Zambia   |8/15/1975|44165.46 |Structural Analysis Engineer|        |\n",
            "|2016-02-03 19:09:48|31 |Antonio   |Berry    |aberryu@ow.ly        |Male  |5.82.180.4    |                   |Thailand |         |135007.96|                            |        |\n",
            "|2016-02-03 05:55:57|58 |Arthur    |Berry    |aberry1l@unc.edu     |Male  |52.42.24.55   |3542761473624274   |China    |         |144164.88|                            |        |\n",
            "|2016-02-03 14:32:34|407|Brenda    |Berry    |bberryba@blogger.com |      |46.61.210.251 |374260362103747    |Indonesia|3/18/1993|NULL     |Systems Administrator I     |        |\n",
            "|2016-02-03 05:39:07|884|David     |Berry    |dberryoj@unc.edu     |Male  |209.61.65.143 |3537528565358906   |Indonesia|6/12/1999|187086.65|Administrative Assistant II |        |\n",
            "+-------------------+---+----------+---------+---------------------+------+--------------+-------------------+---------+---------+---------+----------------------------+--------+\n",
            "\n"
          ]
        }
      ]
    }
  ]
}