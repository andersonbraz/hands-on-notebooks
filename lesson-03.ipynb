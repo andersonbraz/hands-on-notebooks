{
  "cells": [
    {
      "cell_type": "markdown",
      "metadata": {
        "colab_type": "text",
        "id": "view-in-github"
      },
      "source": [
        "<a href=\"https://colab.research.google.com/github/andersonbraz/hands-on-notebooks/blob/main/lesson_03.ipynb\" target=\"_parent\"><img src=\"https://colab.research.google.com/assets/colab-badge.svg\" alt=\"Open In Colab\"/></a>"
      ]
    },
    {
      "cell_type": "code",
      "execution_count": null,
      "metadata": {
        "colab": {
          "base_uri": "https://localhost:8080/"
        },
        "id": "xEKeCMnx86kJ",
        "outputId": "b6b79f01-ce8f-4229-f2a6-5a01ca486437"
      },
      "outputs": [],
      "source": [
        "# !pip install pyspark"
      ]
    },
    {
      "cell_type": "code",
      "execution_count": null,
      "metadata": {
        "id": "Vglzo5mX9TQH"
      },
      "outputs": [],
      "source": [
        "# prompt: Preciso iniciar uma sessão spark crie um código mínimo de modelo pra mim.\n",
        "\n",
        "from pyspark.sql import SparkSession\n",
        "\n",
        "spark = SparkSession.builder.getOrCreate()\n"
      ]
    },
    {
      "cell_type": "markdown",
      "metadata": {
        "id": "VZsENSs70su5"
      },
      "source": []
    },
    {
      "cell_type": "code",
      "execution_count": null,
      "metadata": {
        "colab": {
          "base_uri": "https://localhost:8080/"
        },
        "id": "9FLbdMxBy-n2",
        "outputId": "9b094793-db1e-47a1-c663-ae7817c369b4"
      },
      "outputs": [],
      "source": [
        "# prompt: Preciso ler um parquet que está num github e demosntrar ele em dataframe.\n",
        "\n",
        "df = spark.read.parquet(\"userdata1.parquet\")\n",
        "df.show(truncate=False)"
      ]
    },
    {
      "cell_type": "code",
      "execution_count": null,
      "metadata": {
        "colab": {
          "base_uri": "https://localhost:8080/"
        },
        "id": "ZtEjoZJ404Sd",
        "outputId": "1a2930a0-9202-4f71-827e-65a37c142469"
      },
      "outputs": [],
      "source": [
        "df_example_a = df.filter(df[\"last_name\"] == 'Berry')\n",
        "df_example_a.show(truncate=False)"
      ]
    },
    {
      "cell_type": "code",
      "execution_count": null,
      "metadata": {
        "colab": {
          "base_uri": "https://localhost:8080/"
        },
        "id": "oPzBFqKN1njO",
        "outputId": "4b498034-de67-4635-add2-1fb0d4893c75"
      },
      "outputs": [],
      "source": [
        "df_example_a = df.where(df[\"last_name\"] == 'Berry')\n",
        "df_example_a.show(truncate=False)"
      ]
    }
  ],
  "metadata": {
    "colab": {
      "authorship_tag": "ABX9TyMNKjEBWPU/B9+K3Ks3Wd1i",
      "include_colab_link": true,
      "provenance": []
    },
    "kernelspec": {
      "display_name": "Python 3",
      "name": "python3"
    },
    "language_info": {
      "name": "python"
    }
  },
  "nbformat": 4,
  "nbformat_minor": 0
}
